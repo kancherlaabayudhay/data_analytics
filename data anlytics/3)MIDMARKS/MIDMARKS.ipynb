{
 "cells": [
  {
   "cell_type": "markdown",
   "id": "715ea0ba-cb68-4b0d-a2dd-4b083a5cd369",
   "metadata": {},
   "source": [
    "# K.ABYUDHAY\n",
    "# 2211CS010272\n",
    "# GROUP 4"
   ]
  },
  {
   "cell_type": "markdown",
   "id": "29dd7e54-300c-4270-9dcc-964deb43fd32",
   "metadata": {},
   "source": [
    "# DATA ANALYTICS WITH PYTHON ON MIDMARKS DATASET"
   ]
  },
  {
   "cell_type": "code",
   "execution_count": 3,
   "id": "26e558ee-e3de-4b9f-9257-4fa972fca232",
   "metadata": {},
   "outputs": [],
   "source": [
    "import pandas as pd\n",
    "import matplotlib as plt"
   ]
  },
  {
   "cell_type": "code",
   "execution_count": 4,
   "id": "05104e5b-e214-4bec-bf0e-a0b33dfa7cdb",
   "metadata": {},
   "outputs": [
    {
     "data": {
      "text/html": [
       "<div>\n",
       "<style scoped>\n",
       "    .dataframe tbody tr th:only-of-type {\n",
       "        vertical-align: middle;\n",
       "    }\n",
       "\n",
       "    .dataframe tbody tr th {\n",
       "        vertical-align: top;\n",
       "    }\n",
       "\n",
       "    .dataframe thead th {\n",
       "        text-align: right;\n",
       "    }\n",
       "</style>\n",
       "<table border=\"1\" class=\"dataframe\">\n",
       "  <thead>\n",
       "    <tr style=\"text-align: right;\">\n",
       "      <th></th>\n",
       "      <th>S.NO</th>\n",
       "      <th>SECTION</th>\n",
       "      <th>DV</th>\n",
       "      <th>M-II</th>\n",
       "      <th>PP</th>\n",
       "      <th>BEEE</th>\n",
       "      <th>FL</th>\n",
       "      <th>FIMS</th>\n",
       "    </tr>\n",
       "  </thead>\n",
       "  <tbody>\n",
       "    <tr>\n",
       "      <th>0</th>\n",
       "      <td>1.0</td>\n",
       "      <td>ALPHA</td>\n",
       "      <td>12</td>\n",
       "      <td>0</td>\n",
       "      <td>17</td>\n",
       "      <td>9</td>\n",
       "      <td>19</td>\n",
       "      <td>15</td>\n",
       "    </tr>\n",
       "    <tr>\n",
       "      <th>1</th>\n",
       "      <td>2.0</td>\n",
       "      <td>ALPHA</td>\n",
       "      <td>19</td>\n",
       "      <td>12</td>\n",
       "      <td>16</td>\n",
       "      <td>16</td>\n",
       "      <td>18</td>\n",
       "      <td>3</td>\n",
       "    </tr>\n",
       "    <tr>\n",
       "      <th>2</th>\n",
       "      <td>3.0</td>\n",
       "      <td>ALPHA</td>\n",
       "      <td>18</td>\n",
       "      <td>14</td>\n",
       "      <td>18</td>\n",
       "      <td>18</td>\n",
       "      <td>18</td>\n",
       "      <td>16</td>\n",
       "    </tr>\n",
       "    <tr>\n",
       "      <th>3</th>\n",
       "      <td>4.0</td>\n",
       "      <td>ALPHA</td>\n",
       "      <td>15</td>\n",
       "      <td>9</td>\n",
       "      <td>19</td>\n",
       "      <td>17</td>\n",
       "      <td>19</td>\n",
       "      <td>15</td>\n",
       "    </tr>\n",
       "    <tr>\n",
       "      <th>4</th>\n",
       "      <td>5.0</td>\n",
       "      <td>ALPHA</td>\n",
       "      <td>18</td>\n",
       "      <td>17</td>\n",
       "      <td>19</td>\n",
       "      <td>19</td>\n",
       "      <td>20</td>\n",
       "      <td>18</td>\n",
       "    </tr>\n",
       "    <tr>\n",
       "      <th>...</th>\n",
       "      <td>...</td>\n",
       "      <td>...</td>\n",
       "      <td>...</td>\n",
       "      <td>...</td>\n",
       "      <td>...</td>\n",
       "      <td>...</td>\n",
       "      <td>...</td>\n",
       "      <td>...</td>\n",
       "    </tr>\n",
       "    <tr>\n",
       "      <th>713</th>\n",
       "      <td>NaN</td>\n",
       "      <td>ZETA</td>\n",
       "      <td>19</td>\n",
       "      <td>8</td>\n",
       "      <td>8</td>\n",
       "      <td>19</td>\n",
       "      <td>17</td>\n",
       "      <td>18</td>\n",
       "    </tr>\n",
       "    <tr>\n",
       "      <th>714</th>\n",
       "      <td>NaN</td>\n",
       "      <td>ZETA</td>\n",
       "      <td>12</td>\n",
       "      <td>1</td>\n",
       "      <td>7</td>\n",
       "      <td>10</td>\n",
       "      <td>20</td>\n",
       "      <td>8</td>\n",
       "    </tr>\n",
       "    <tr>\n",
       "      <th>715</th>\n",
       "      <td>NaN</td>\n",
       "      <td>ZETA</td>\n",
       "      <td>17</td>\n",
       "      <td>6</td>\n",
       "      <td>14</td>\n",
       "      <td>14</td>\n",
       "      <td>17</td>\n",
       "      <td>18</td>\n",
       "    </tr>\n",
       "    <tr>\n",
       "      <th>716</th>\n",
       "      <td>NaN</td>\n",
       "      <td>ZETA</td>\n",
       "      <td>12</td>\n",
       "      <td>1</td>\n",
       "      <td>6</td>\n",
       "      <td>7</td>\n",
       "      <td>15</td>\n",
       "      <td>12</td>\n",
       "    </tr>\n",
       "    <tr>\n",
       "      <th>717</th>\n",
       "      <td>NaN</td>\n",
       "      <td>ZETA</td>\n",
       "      <td>19</td>\n",
       "      <td>14</td>\n",
       "      <td>17</td>\n",
       "      <td>16</td>\n",
       "      <td>20</td>\n",
       "      <td>19</td>\n",
       "    </tr>\n",
       "  </tbody>\n",
       "</table>\n",
       "<p>718 rows × 8 columns</p>\n",
       "</div>"
      ],
      "text/plain": [
       "     S.NO SECTION  DV M-II  PP BEEE  FL FIMS\n",
       "0     1.0   ALPHA  12    0  17    9  19   15\n",
       "1     2.0   ALPHA  19   12  16   16  18    3\n",
       "2     3.0   ALPHA  18   14  18   18  18   16\n",
       "3     4.0   ALPHA  15    9  19   17  19   15\n",
       "4     5.0   ALPHA  18   17  19   19  20   18\n",
       "..    ...     ...  ..  ...  ..  ...  ..  ...\n",
       "713   NaN    ZETA  19    8   8   19  17   18\n",
       "714   NaN    ZETA  12    1   7   10  20    8\n",
       "715   NaN    ZETA  17    6  14   14  17   18\n",
       "716   NaN    ZETA  12    1   6    7  15   12\n",
       "717   NaN    ZETA  19   14  17   16  20   19\n",
       "\n",
       "[718 rows x 8 columns]"
      ]
     },
     "execution_count": 4,
     "metadata": {},
     "output_type": "execute_result"
    }
   ],
   "source": [
    "\n",
    "data = pd.read_excel(\"MIDMARKS.xlsx\")\n",
    "data"
   ]
  },
  {
   "cell_type": "code",
   "execution_count": 5,
   "id": "16cee2e4-1851-497b-96e2-6c6c51892e72",
   "metadata": {},
   "outputs": [
    {
     "name": "stdout",
     "output_type": "stream",
     "text": [
      "<class 'pandas.core.frame.DataFrame'>\n",
      "RangeIndex: 718 entries, 0 to 717\n",
      "Data columns (total 8 columns):\n",
      " #   Column   Non-Null Count  Dtype  \n",
      "---  ------   --------------  -----  \n",
      " 0   S.NO     601 non-null    float64\n",
      " 1   SECTION  691 non-null    object \n",
      " 2   DV       716 non-null    object \n",
      " 3   M-II     716 non-null    object \n",
      " 4   PP       716 non-null    object \n",
      " 5   BEEE     716 non-null    object \n",
      " 6   FL       715 non-null    object \n",
      " 7   FIMS     716 non-null    object \n",
      "dtypes: float64(1), object(7)\n",
      "memory usage: 45.0+ KB\n"
     ]
    }
   ],
   "source": [
    "data.info()"
   ]
  },
  {
   "cell_type": "code",
   "execution_count": 13,
   "id": "5d3ae30e-4b18-4452-bee7-1a2f1588ae85",
   "metadata": {},
   "outputs": [
    {
     "data": {
      "text/html": [
       "<div>\n",
       "<style scoped>\n",
       "    .dataframe tbody tr th:only-of-type {\n",
       "        vertical-align: middle;\n",
       "    }\n",
       "\n",
       "    .dataframe tbody tr th {\n",
       "        vertical-align: top;\n",
       "    }\n",
       "\n",
       "    .dataframe thead th {\n",
       "        text-align: right;\n",
       "    }\n",
       "</style>\n",
       "<table border=\"1\" class=\"dataframe\">\n",
       "  <thead>\n",
       "    <tr style=\"text-align: right;\">\n",
       "      <th></th>\n",
       "      <th>S.NO</th>\n",
       "      <th>SECTION</th>\n",
       "      <th>DV</th>\n",
       "      <th>M2</th>\n",
       "      <th>PP</th>\n",
       "      <th>BEEE</th>\n",
       "      <th>FL</th>\n",
       "      <th>FIMS</th>\n",
       "    </tr>\n",
       "  </thead>\n",
       "  <tbody>\n",
       "    <tr>\n",
       "      <th>0</th>\n",
       "      <td>1</td>\n",
       "      <td>ALPHA</td>\n",
       "      <td>12.0</td>\n",
       "      <td>0</td>\n",
       "      <td>17</td>\n",
       "      <td>9</td>\n",
       "      <td>19</td>\n",
       "      <td>15</td>\n",
       "    </tr>\n",
       "    <tr>\n",
       "      <th>1</th>\n",
       "      <td>2</td>\n",
       "      <td>ALPHA</td>\n",
       "      <td>19.0</td>\n",
       "      <td>12</td>\n",
       "      <td>16</td>\n",
       "      <td>16</td>\n",
       "      <td>18</td>\n",
       "      <td>3</td>\n",
       "    </tr>\n",
       "    <tr>\n",
       "      <th>2</th>\n",
       "      <td>3</td>\n",
       "      <td>ALPHA</td>\n",
       "      <td>18.0</td>\n",
       "      <td>14</td>\n",
       "      <td>18</td>\n",
       "      <td>18</td>\n",
       "      <td>18</td>\n",
       "      <td>16</td>\n",
       "    </tr>\n",
       "    <tr>\n",
       "      <th>3</th>\n",
       "      <td>4</td>\n",
       "      <td>ALPHA</td>\n",
       "      <td>15.0</td>\n",
       "      <td>9</td>\n",
       "      <td>19</td>\n",
       "      <td>17</td>\n",
       "      <td>19</td>\n",
       "      <td>15</td>\n",
       "    </tr>\n",
       "    <tr>\n",
       "      <th>4</th>\n",
       "      <td>5</td>\n",
       "      <td>ALPHA</td>\n",
       "      <td>18.0</td>\n",
       "      <td>17</td>\n",
       "      <td>19</td>\n",
       "      <td>19</td>\n",
       "      <td>20</td>\n",
       "      <td>18</td>\n",
       "    </tr>\n",
       "    <tr>\n",
       "      <th>...</th>\n",
       "      <td>...</td>\n",
       "      <td>...</td>\n",
       "      <td>...</td>\n",
       "      <td>...</td>\n",
       "      <td>...</td>\n",
       "      <td>...</td>\n",
       "      <td>...</td>\n",
       "      <td>...</td>\n",
       "    </tr>\n",
       "    <tr>\n",
       "      <th>713</th>\n",
       "      <td>714</td>\n",
       "      <td>ZETA</td>\n",
       "      <td>19.0</td>\n",
       "      <td>8</td>\n",
       "      <td>8</td>\n",
       "      <td>19</td>\n",
       "      <td>17</td>\n",
       "      <td>18</td>\n",
       "    </tr>\n",
       "    <tr>\n",
       "      <th>714</th>\n",
       "      <td>715</td>\n",
       "      <td>ZETA</td>\n",
       "      <td>12.0</td>\n",
       "      <td>1</td>\n",
       "      <td>7</td>\n",
       "      <td>10</td>\n",
       "      <td>20</td>\n",
       "      <td>8</td>\n",
       "    </tr>\n",
       "    <tr>\n",
       "      <th>715</th>\n",
       "      <td>716</td>\n",
       "      <td>ZETA</td>\n",
       "      <td>17.0</td>\n",
       "      <td>6</td>\n",
       "      <td>14</td>\n",
       "      <td>14</td>\n",
       "      <td>17</td>\n",
       "      <td>18</td>\n",
       "    </tr>\n",
       "    <tr>\n",
       "      <th>716</th>\n",
       "      <td>717</td>\n",
       "      <td>ZETA</td>\n",
       "      <td>12.0</td>\n",
       "      <td>1</td>\n",
       "      <td>6</td>\n",
       "      <td>7</td>\n",
       "      <td>15</td>\n",
       "      <td>12</td>\n",
       "    </tr>\n",
       "    <tr>\n",
       "      <th>717</th>\n",
       "      <td>718</td>\n",
       "      <td>ZETA</td>\n",
       "      <td>19.0</td>\n",
       "      <td>14</td>\n",
       "      <td>17</td>\n",
       "      <td>16</td>\n",
       "      <td>20</td>\n",
       "      <td>19</td>\n",
       "    </tr>\n",
       "  </tbody>\n",
       "</table>\n",
       "<p>718 rows × 8 columns</p>\n",
       "</div>"
      ],
      "text/plain": [
       "     S.NO SECTION    DV  M2  PP BEEE  FL FIMS\n",
       "0       1   ALPHA  12.0   0  17    9  19   15\n",
       "1       2   ALPHA  19.0  12  16   16  18    3\n",
       "2       3   ALPHA  18.0  14  18   18  18   16\n",
       "3       4   ALPHA  15.0   9  19   17  19   15\n",
       "4       5   ALPHA  18.0  17  19   19  20   18\n",
       "..    ...     ...   ...  ..  ..  ...  ..  ...\n",
       "713   714    ZETA  19.0   8   8   19  17   18\n",
       "714   715    ZETA  12.0   1   7   10  20    8\n",
       "715   716    ZETA  17.0   6  14   14  17   18\n",
       "716   717    ZETA  12.0   1   6    7  15   12\n",
       "717   718    ZETA  19.0  14  17   16  20   19\n",
       "\n",
       "[718 rows x 8 columns]"
      ]
     },
     "execution_count": 13,
     "metadata": {},
     "output_type": "execute_result"
    }
   ],
   "source": [
    "data.rename(columns={'M-II':'M2'},inplace=True)\n",
    "data"
   ]
  },
  {
   "cell_type": "code",
   "execution_count": 7,
   "id": "3e9cbb0a-c7d8-4ab7-8ede-cfa7f64daa00",
   "metadata": {},
   "outputs": [
    {
     "data": {
      "text/html": [
       "<div>\n",
       "<style scoped>\n",
       "    .dataframe tbody tr th:only-of-type {\n",
       "        vertical-align: middle;\n",
       "    }\n",
       "\n",
       "    .dataframe tbody tr th {\n",
       "        vertical-align: top;\n",
       "    }\n",
       "\n",
       "    .dataframe thead th {\n",
       "        text-align: right;\n",
       "    }\n",
       "</style>\n",
       "<table border=\"1\" class=\"dataframe\">\n",
       "  <thead>\n",
       "    <tr style=\"text-align: right;\">\n",
       "      <th></th>\n",
       "      <th>S.NO</th>\n",
       "      <th>SECTION</th>\n",
       "      <th>DV</th>\n",
       "      <th>M-II</th>\n",
       "      <th>PP</th>\n",
       "      <th>BEEE</th>\n",
       "      <th>FL</th>\n",
       "      <th>FIMS</th>\n",
       "    </tr>\n",
       "  </thead>\n",
       "  <tbody>\n",
       "    <tr>\n",
       "      <th>0</th>\n",
       "      <td>1.0</td>\n",
       "      <td>ALPHA</td>\n",
       "      <td>12</td>\n",
       "      <td>0</td>\n",
       "      <td>17</td>\n",
       "      <td>9</td>\n",
       "      <td>19</td>\n",
       "      <td>15</td>\n",
       "    </tr>\n",
       "    <tr>\n",
       "      <th>1</th>\n",
       "      <td>2.0</td>\n",
       "      <td>ALPHA</td>\n",
       "      <td>19</td>\n",
       "      <td>12</td>\n",
       "      <td>16</td>\n",
       "      <td>16</td>\n",
       "      <td>18</td>\n",
       "      <td>3</td>\n",
       "    </tr>\n",
       "    <tr>\n",
       "      <th>2</th>\n",
       "      <td>3.0</td>\n",
       "      <td>ALPHA</td>\n",
       "      <td>18</td>\n",
       "      <td>14</td>\n",
       "      <td>18</td>\n",
       "      <td>18</td>\n",
       "      <td>18</td>\n",
       "      <td>16</td>\n",
       "    </tr>\n",
       "    <tr>\n",
       "      <th>3</th>\n",
       "      <td>4.0</td>\n",
       "      <td>ALPHA</td>\n",
       "      <td>15</td>\n",
       "      <td>9</td>\n",
       "      <td>19</td>\n",
       "      <td>17</td>\n",
       "      <td>19</td>\n",
       "      <td>15</td>\n",
       "    </tr>\n",
       "    <tr>\n",
       "      <th>4</th>\n",
       "      <td>5.0</td>\n",
       "      <td>ALPHA</td>\n",
       "      <td>18</td>\n",
       "      <td>17</td>\n",
       "      <td>19</td>\n",
       "      <td>19</td>\n",
       "      <td>20</td>\n",
       "      <td>18</td>\n",
       "    </tr>\n",
       "    <tr>\n",
       "      <th>...</th>\n",
       "      <td>...</td>\n",
       "      <td>...</td>\n",
       "      <td>...</td>\n",
       "      <td>...</td>\n",
       "      <td>...</td>\n",
       "      <td>...</td>\n",
       "      <td>...</td>\n",
       "      <td>...</td>\n",
       "    </tr>\n",
       "    <tr>\n",
       "      <th>713</th>\n",
       "      <td>NaN</td>\n",
       "      <td>ZETA</td>\n",
       "      <td>19</td>\n",
       "      <td>8</td>\n",
       "      <td>8</td>\n",
       "      <td>19</td>\n",
       "      <td>17</td>\n",
       "      <td>18</td>\n",
       "    </tr>\n",
       "    <tr>\n",
       "      <th>714</th>\n",
       "      <td>NaN</td>\n",
       "      <td>ZETA</td>\n",
       "      <td>12</td>\n",
       "      <td>1</td>\n",
       "      <td>7</td>\n",
       "      <td>10</td>\n",
       "      <td>20</td>\n",
       "      <td>8</td>\n",
       "    </tr>\n",
       "    <tr>\n",
       "      <th>715</th>\n",
       "      <td>NaN</td>\n",
       "      <td>ZETA</td>\n",
       "      <td>17</td>\n",
       "      <td>6</td>\n",
       "      <td>14</td>\n",
       "      <td>14</td>\n",
       "      <td>17</td>\n",
       "      <td>18</td>\n",
       "    </tr>\n",
       "    <tr>\n",
       "      <th>716</th>\n",
       "      <td>NaN</td>\n",
       "      <td>ZETA</td>\n",
       "      <td>12</td>\n",
       "      <td>1</td>\n",
       "      <td>6</td>\n",
       "      <td>7</td>\n",
       "      <td>15</td>\n",
       "      <td>12</td>\n",
       "    </tr>\n",
       "    <tr>\n",
       "      <th>717</th>\n",
       "      <td>NaN</td>\n",
       "      <td>ZETA</td>\n",
       "      <td>19</td>\n",
       "      <td>14</td>\n",
       "      <td>17</td>\n",
       "      <td>16</td>\n",
       "      <td>20</td>\n",
       "      <td>19</td>\n",
       "    </tr>\n",
       "  </tbody>\n",
       "</table>\n",
       "<p>718 rows × 8 columns</p>\n",
       "</div>"
      ],
      "text/plain": [
       "     S.NO SECTION  DV M-II  PP BEEE  FL FIMS\n",
       "0     1.0   ALPHA  12    0  17    9  19   15\n",
       "1     2.0   ALPHA  19   12  16   16  18    3\n",
       "2     3.0   ALPHA  18   14  18   18  18   16\n",
       "3     4.0   ALPHA  15    9  19   17  19   15\n",
       "4     5.0   ALPHA  18   17  19   19  20   18\n",
       "..    ...     ...  ..  ...  ..  ...  ..  ...\n",
       "713   NaN    ZETA  19    8   8   19  17   18\n",
       "714   NaN    ZETA  12    1   7   10  20    8\n",
       "715   NaN    ZETA  17    6  14   14  17   18\n",
       "716   NaN    ZETA  12    1   6    7  15   12\n",
       "717   NaN    ZETA  19   14  17   16  20   19\n",
       "\n",
       "[718 rows x 8 columns]"
      ]
     },
     "execution_count": 7,
     "metadata": {},
     "output_type": "execute_result"
    }
   ],
   "source": [
    "data[\"SECTION\"] = data[\"SECTION\"].fillna(\"SIGMA\")\n",
    "data[\"SECTION\"] = data[\"SECTION\"].replace(\"\",\"SIGMA\")\n",
    "data"
   ]
  },
  {
   "cell_type": "code",
   "execution_count": 8,
   "id": "f50e36e5-bf5a-4972-a00a-042b1ba6b91c",
   "metadata": {},
   "outputs": [
    {
     "data": {
      "text/html": [
       "<div>\n",
       "<style scoped>\n",
       "    .dataframe tbody tr th:only-of-type {\n",
       "        vertical-align: middle;\n",
       "    }\n",
       "\n",
       "    .dataframe tbody tr th {\n",
       "        vertical-align: top;\n",
       "    }\n",
       "\n",
       "    .dataframe thead th {\n",
       "        text-align: right;\n",
       "    }\n",
       "</style>\n",
       "<table border=\"1\" class=\"dataframe\">\n",
       "  <thead>\n",
       "    <tr style=\"text-align: right;\">\n",
       "      <th></th>\n",
       "      <th>S.NO</th>\n",
       "      <th>SECTION</th>\n",
       "      <th>DV</th>\n",
       "      <th>M-II</th>\n",
       "      <th>PP</th>\n",
       "      <th>BEEE</th>\n",
       "      <th>FL</th>\n",
       "      <th>FIMS</th>\n",
       "    </tr>\n",
       "  </thead>\n",
       "  <tbody>\n",
       "    <tr>\n",
       "      <th>0</th>\n",
       "      <td>1</td>\n",
       "      <td>ALPHA</td>\n",
       "      <td>12</td>\n",
       "      <td>0</td>\n",
       "      <td>17</td>\n",
       "      <td>9</td>\n",
       "      <td>19</td>\n",
       "      <td>15</td>\n",
       "    </tr>\n",
       "    <tr>\n",
       "      <th>1</th>\n",
       "      <td>2</td>\n",
       "      <td>ALPHA</td>\n",
       "      <td>19</td>\n",
       "      <td>12</td>\n",
       "      <td>16</td>\n",
       "      <td>16</td>\n",
       "      <td>18</td>\n",
       "      <td>3</td>\n",
       "    </tr>\n",
       "    <tr>\n",
       "      <th>2</th>\n",
       "      <td>3</td>\n",
       "      <td>ALPHA</td>\n",
       "      <td>18</td>\n",
       "      <td>14</td>\n",
       "      <td>18</td>\n",
       "      <td>18</td>\n",
       "      <td>18</td>\n",
       "      <td>16</td>\n",
       "    </tr>\n",
       "    <tr>\n",
       "      <th>3</th>\n",
       "      <td>4</td>\n",
       "      <td>ALPHA</td>\n",
       "      <td>15</td>\n",
       "      <td>9</td>\n",
       "      <td>19</td>\n",
       "      <td>17</td>\n",
       "      <td>19</td>\n",
       "      <td>15</td>\n",
       "    </tr>\n",
       "    <tr>\n",
       "      <th>4</th>\n",
       "      <td>5</td>\n",
       "      <td>ALPHA</td>\n",
       "      <td>18</td>\n",
       "      <td>17</td>\n",
       "      <td>19</td>\n",
       "      <td>19</td>\n",
       "      <td>20</td>\n",
       "      <td>18</td>\n",
       "    </tr>\n",
       "    <tr>\n",
       "      <th>...</th>\n",
       "      <td>...</td>\n",
       "      <td>...</td>\n",
       "      <td>...</td>\n",
       "      <td>...</td>\n",
       "      <td>...</td>\n",
       "      <td>...</td>\n",
       "      <td>...</td>\n",
       "      <td>...</td>\n",
       "    </tr>\n",
       "    <tr>\n",
       "      <th>713</th>\n",
       "      <td>714</td>\n",
       "      <td>ZETA</td>\n",
       "      <td>19</td>\n",
       "      <td>8</td>\n",
       "      <td>8</td>\n",
       "      <td>19</td>\n",
       "      <td>17</td>\n",
       "      <td>18</td>\n",
       "    </tr>\n",
       "    <tr>\n",
       "      <th>714</th>\n",
       "      <td>715</td>\n",
       "      <td>ZETA</td>\n",
       "      <td>12</td>\n",
       "      <td>1</td>\n",
       "      <td>7</td>\n",
       "      <td>10</td>\n",
       "      <td>20</td>\n",
       "      <td>8</td>\n",
       "    </tr>\n",
       "    <tr>\n",
       "      <th>715</th>\n",
       "      <td>716</td>\n",
       "      <td>ZETA</td>\n",
       "      <td>17</td>\n",
       "      <td>6</td>\n",
       "      <td>14</td>\n",
       "      <td>14</td>\n",
       "      <td>17</td>\n",
       "      <td>18</td>\n",
       "    </tr>\n",
       "    <tr>\n",
       "      <th>716</th>\n",
       "      <td>717</td>\n",
       "      <td>ZETA</td>\n",
       "      <td>12</td>\n",
       "      <td>1</td>\n",
       "      <td>6</td>\n",
       "      <td>7</td>\n",
       "      <td>15</td>\n",
       "      <td>12</td>\n",
       "    </tr>\n",
       "    <tr>\n",
       "      <th>717</th>\n",
       "      <td>718</td>\n",
       "      <td>ZETA</td>\n",
       "      <td>19</td>\n",
       "      <td>14</td>\n",
       "      <td>17</td>\n",
       "      <td>16</td>\n",
       "      <td>20</td>\n",
       "      <td>19</td>\n",
       "    </tr>\n",
       "  </tbody>\n",
       "</table>\n",
       "<p>718 rows × 8 columns</p>\n",
       "</div>"
      ],
      "text/plain": [
       "     S.NO SECTION  DV M-II  PP BEEE  FL FIMS\n",
       "0       1   ALPHA  12    0  17    9  19   15\n",
       "1       2   ALPHA  19   12  16   16  18    3\n",
       "2       3   ALPHA  18   14  18   18  18   16\n",
       "3       4   ALPHA  15    9  19   17  19   15\n",
       "4       5   ALPHA  18   17  19   19  20   18\n",
       "..    ...     ...  ..  ...  ..  ...  ..  ...\n",
       "713   714    ZETA  19    8   8   19  17   18\n",
       "714   715    ZETA  12    1   7   10  20    8\n",
       "715   716    ZETA  17    6  14   14  17   18\n",
       "716   717    ZETA  12    1   6    7  15   12\n",
       "717   718    ZETA  19   14  17   16  20   19\n",
       "\n",
       "[718 rows x 8 columns]"
      ]
     },
     "execution_count": 8,
     "metadata": {},
     "output_type": "execute_result"
    }
   ],
   "source": [
    "data['S.NO'] = range(1,len(data)+1)\n",
    "data"
   ]
  },
  {
   "cell_type": "code",
   "execution_count": 9,
   "id": "fd6388e5-e08b-4153-aaeb-94c2ae56fc18",
   "metadata": {},
   "outputs": [
    {
     "name": "stdout",
     "output_type": "stream",
     "text": [
      "<class 'pandas.core.frame.DataFrame'>\n",
      "RangeIndex: 718 entries, 0 to 717\n",
      "Data columns (total 8 columns):\n",
      " #   Column   Non-Null Count  Dtype \n",
      "---  ------   --------------  ----- \n",
      " 0   S.NO     718 non-null    int64 \n",
      " 1   SECTION  718 non-null    object\n",
      " 2   DV       716 non-null    object\n",
      " 3   M-II     716 non-null    object\n",
      " 4   PP       716 non-null    object\n",
      " 5   BEEE     716 non-null    object\n",
      " 6   FL       715 non-null    object\n",
      " 7   FIMS     716 non-null    object\n",
      "dtypes: int64(1), object(7)\n",
      "memory usage: 45.0+ KB\n"
     ]
    }
   ],
   "source": [
    "data.info()"
   ]
  },
  {
   "cell_type": "code",
   "execution_count": 10,
   "id": "94c61abf-f9ea-4056-8e95-ad8a1b1263b8",
   "metadata": {},
   "outputs": [
    {
     "name": "stdout",
     "output_type": "stream",
     "text": [
      "<class 'pandas.core.frame.DataFrame'>\n",
      "RangeIndex: 718 entries, 0 to 717\n",
      "Data columns (total 8 columns):\n",
      " #   Column   Non-Null Count  Dtype \n",
      "---  ------   --------------  ----- \n",
      " 0   S.NO     718 non-null    int64 \n",
      " 1   SECTION  718 non-null    object\n",
      " 2   DV       716 non-null    object\n",
      " 3   M-II     716 non-null    object\n",
      " 4   PP       716 non-null    object\n",
      " 5   BEEE     716 non-null    object\n",
      " 6   FL       715 non-null    object\n",
      " 7   FIMS     716 non-null    object\n",
      "dtypes: int64(1), object(7)\n",
      "memory usage: 45.0+ KB\n"
     ]
    }
   ],
   "source": [
    "data.info()"
   ]
  },
  {
   "cell_type": "code",
   "execution_count": 11,
   "id": "7f560973-205e-4511-a0c9-5939dd4e1d64",
   "metadata": {},
   "outputs": [
    {
     "data": {
      "text/html": [
       "<div>\n",
       "<style scoped>\n",
       "    .dataframe tbody tr th:only-of-type {\n",
       "        vertical-align: middle;\n",
       "    }\n",
       "\n",
       "    .dataframe tbody tr th {\n",
       "        vertical-align: top;\n",
       "    }\n",
       "\n",
       "    .dataframe thead th {\n",
       "        text-align: right;\n",
       "    }\n",
       "</style>\n",
       "<table border=\"1\" class=\"dataframe\">\n",
       "  <thead>\n",
       "    <tr style=\"text-align: right;\">\n",
       "      <th></th>\n",
       "      <th>S.NO</th>\n",
       "      <th>SECTION</th>\n",
       "      <th>DV</th>\n",
       "      <th>M-II</th>\n",
       "      <th>PP</th>\n",
       "      <th>BEEE</th>\n",
       "      <th>FL</th>\n",
       "      <th>FIMS</th>\n",
       "    </tr>\n",
       "  </thead>\n",
       "  <tbody>\n",
       "    <tr>\n",
       "      <th>0</th>\n",
       "      <td>1</td>\n",
       "      <td>ALPHA</td>\n",
       "      <td>12</td>\n",
       "      <td>0</td>\n",
       "      <td>17</td>\n",
       "      <td>9</td>\n",
       "      <td>19</td>\n",
       "      <td>15</td>\n",
       "    </tr>\n",
       "    <tr>\n",
       "      <th>1</th>\n",
       "      <td>2</td>\n",
       "      <td>ALPHA</td>\n",
       "      <td>19</td>\n",
       "      <td>12</td>\n",
       "      <td>16</td>\n",
       "      <td>16</td>\n",
       "      <td>18</td>\n",
       "      <td>3</td>\n",
       "    </tr>\n",
       "    <tr>\n",
       "      <th>2</th>\n",
       "      <td>3</td>\n",
       "      <td>ALPHA</td>\n",
       "      <td>18</td>\n",
       "      <td>14</td>\n",
       "      <td>18</td>\n",
       "      <td>18</td>\n",
       "      <td>18</td>\n",
       "      <td>16</td>\n",
       "    </tr>\n",
       "    <tr>\n",
       "      <th>3</th>\n",
       "      <td>4</td>\n",
       "      <td>ALPHA</td>\n",
       "      <td>15</td>\n",
       "      <td>9</td>\n",
       "      <td>19</td>\n",
       "      <td>17</td>\n",
       "      <td>19</td>\n",
       "      <td>15</td>\n",
       "    </tr>\n",
       "    <tr>\n",
       "      <th>4</th>\n",
       "      <td>5</td>\n",
       "      <td>ALPHA</td>\n",
       "      <td>18</td>\n",
       "      <td>17</td>\n",
       "      <td>19</td>\n",
       "      <td>19</td>\n",
       "      <td>20</td>\n",
       "      <td>18</td>\n",
       "    </tr>\n",
       "    <tr>\n",
       "      <th>...</th>\n",
       "      <td>...</td>\n",
       "      <td>...</td>\n",
       "      <td>...</td>\n",
       "      <td>...</td>\n",
       "      <td>...</td>\n",
       "      <td>...</td>\n",
       "      <td>...</td>\n",
       "      <td>...</td>\n",
       "    </tr>\n",
       "    <tr>\n",
       "      <th>713</th>\n",
       "      <td>714</td>\n",
       "      <td>ZETA</td>\n",
       "      <td>19</td>\n",
       "      <td>8</td>\n",
       "      <td>8</td>\n",
       "      <td>19</td>\n",
       "      <td>17</td>\n",
       "      <td>18</td>\n",
       "    </tr>\n",
       "    <tr>\n",
       "      <th>714</th>\n",
       "      <td>715</td>\n",
       "      <td>ZETA</td>\n",
       "      <td>12</td>\n",
       "      <td>1</td>\n",
       "      <td>7</td>\n",
       "      <td>10</td>\n",
       "      <td>20</td>\n",
       "      <td>8</td>\n",
       "    </tr>\n",
       "    <tr>\n",
       "      <th>715</th>\n",
       "      <td>716</td>\n",
       "      <td>ZETA</td>\n",
       "      <td>17</td>\n",
       "      <td>6</td>\n",
       "      <td>14</td>\n",
       "      <td>14</td>\n",
       "      <td>17</td>\n",
       "      <td>18</td>\n",
       "    </tr>\n",
       "    <tr>\n",
       "      <th>716</th>\n",
       "      <td>717</td>\n",
       "      <td>ZETA</td>\n",
       "      <td>12</td>\n",
       "      <td>1</td>\n",
       "      <td>6</td>\n",
       "      <td>7</td>\n",
       "      <td>15</td>\n",
       "      <td>12</td>\n",
       "    </tr>\n",
       "    <tr>\n",
       "      <th>717</th>\n",
       "      <td>718</td>\n",
       "      <td>ZETA</td>\n",
       "      <td>19</td>\n",
       "      <td>14</td>\n",
       "      <td>17</td>\n",
       "      <td>16</td>\n",
       "      <td>20</td>\n",
       "      <td>19</td>\n",
       "    </tr>\n",
       "  </tbody>\n",
       "</table>\n",
       "<p>718 rows × 8 columns</p>\n",
       "</div>"
      ],
      "text/plain": [
       "     S.NO SECTION  DV M-II  PP BEEE  FL FIMS\n",
       "0       1   ALPHA  12    0  17    9  19   15\n",
       "1       2   ALPHA  19   12  16   16  18    3\n",
       "2       3   ALPHA  18   14  18   18  18   16\n",
       "3       4   ALPHA  15    9  19   17  19   15\n",
       "4       5   ALPHA  18   17  19   19  20   18\n",
       "..    ...     ...  ..  ...  ..  ...  ..  ...\n",
       "713   714    ZETA  19    8   8   19  17   18\n",
       "714   715    ZETA  12    1   7   10  20    8\n",
       "715   716    ZETA  17    6  14   14  17   18\n",
       "716   717    ZETA  12    1   6    7  15   12\n",
       "717   718    ZETA  19   14  17   16  20   19\n",
       "\n",
       "[718 rows x 8 columns]"
      ]
     },
     "execution_count": 11,
     "metadata": {},
     "output_type": "execute_result"
    }
   ],
   "source": [
    "data['S.NO'] = range(1,len(data)+1)\n",
    "data"
   ]
  },
  {
   "cell_type": "code",
   "execution_count": 12,
   "id": "c0efe0c8-edb2-40eb-9705-0f94dc166fad",
   "metadata": {},
   "outputs": [
    {
     "name": "stdout",
     "output_type": "stream",
     "text": [
      "   S.NO SECTION  DV M-II  PP BEEE  FL FIMS\n",
      "0     1   ALPHA  12    0  17    9  19   15\n",
      "1     2   ALPHA  19   12  16   16  18    3\n",
      "2     3   ALPHA  18   14  18   18  18   16\n",
      "3     4   ALPHA  15    9  19   17  19   15\n",
      "4     5   ALPHA  18   17  19   19  20   18\n"
     ]
    },
    {
     "ename": "KeyError",
     "evalue": "'M2'",
     "output_type": "error",
     "traceback": [
      "\u001b[1;31m---------------------------------------------------------------------------\u001b[0m",
      "\u001b[1;31mKeyError\u001b[0m                                  Traceback (most recent call last)",
      "File \u001b[1;32m~\\anaconda3\\Lib\\site-packages\\pandas\\core\\indexes\\base.py:3805\u001b[0m, in \u001b[0;36mIndex.get_loc\u001b[1;34m(self, key)\u001b[0m\n\u001b[0;32m   3804\u001b[0m \u001b[38;5;28;01mtry\u001b[39;00m:\n\u001b[1;32m-> 3805\u001b[0m     \u001b[38;5;28;01mreturn\u001b[39;00m \u001b[38;5;28mself\u001b[39m\u001b[38;5;241m.\u001b[39m_engine\u001b[38;5;241m.\u001b[39mget_loc(casted_key)\n\u001b[0;32m   3806\u001b[0m \u001b[38;5;28;01mexcept\u001b[39;00m \u001b[38;5;167;01mKeyError\u001b[39;00m \u001b[38;5;28;01mas\u001b[39;00m err:\n",
      "File \u001b[1;32mindex.pyx:167\u001b[0m, in \u001b[0;36mpandas._libs.index.IndexEngine.get_loc\u001b[1;34m()\u001b[0m\n",
      "File \u001b[1;32mindex.pyx:196\u001b[0m, in \u001b[0;36mpandas._libs.index.IndexEngine.get_loc\u001b[1;34m()\u001b[0m\n",
      "File \u001b[1;32mpandas\\\\_libs\\\\hashtable_class_helper.pxi:7081\u001b[0m, in \u001b[0;36mpandas._libs.hashtable.PyObjectHashTable.get_item\u001b[1;34m()\u001b[0m\n",
      "File \u001b[1;32mpandas\\\\_libs\\\\hashtable_class_helper.pxi:7089\u001b[0m, in \u001b[0;36mpandas._libs.hashtable.PyObjectHashTable.get_item\u001b[1;34m()\u001b[0m\n",
      "\u001b[1;31mKeyError\u001b[0m: 'M2'",
      "\nThe above exception was the direct cause of the following exception:\n",
      "\u001b[1;31mKeyError\u001b[0m                                  Traceback (most recent call last)",
      "Cell \u001b[1;32mIn[12], line 5\u001b[0m\n\u001b[0;32m      2\u001b[0m subjects \u001b[38;5;241m=\u001b[39m [\u001b[38;5;124m'\u001b[39m\u001b[38;5;124mDV\u001b[39m\u001b[38;5;124m'\u001b[39m, \u001b[38;5;124m'\u001b[39m\u001b[38;5;124mM2\u001b[39m\u001b[38;5;124m'\u001b[39m, \u001b[38;5;124m'\u001b[39m\u001b[38;5;124mPP\u001b[39m\u001b[38;5;124m'\u001b[39m, \u001b[38;5;124m'\u001b[39m\u001b[38;5;124mBEEE\u001b[39m\u001b[38;5;124m'\u001b[39m, \u001b[38;5;124m'\u001b[39m\u001b[38;5;124mFL\u001b[39m\u001b[38;5;124m'\u001b[39m, \u001b[38;5;124m'\u001b[39m\u001b[38;5;124mFIMS\u001b[39m\u001b[38;5;124m'\u001b[39m]\n\u001b[0;32m      4\u001b[0m \u001b[38;5;28;01mfor\u001b[39;00m col \u001b[38;5;129;01min\u001b[39;00m subjects:\n\u001b[1;32m----> 5\u001b[0m     data[col] \u001b[38;5;241m=\u001b[39m pd\u001b[38;5;241m.\u001b[39mto_numeric(data[col], errors\u001b[38;5;241m=\u001b[39m\u001b[38;5;124m'\u001b[39m\u001b[38;5;124mcoerce\u001b[39m\u001b[38;5;124m'\u001b[39m) \n\u001b[0;32m      6\u001b[0m data[\u001b[38;5;124m'\u001b[39m\u001b[38;5;124mTotal Marks\u001b[39m\u001b[38;5;124m'\u001b[39m] \u001b[38;5;241m=\u001b[39m data[subjects]\u001b[38;5;241m.\u001b[39msum(axis\u001b[38;5;241m=\u001b[39m\u001b[38;5;241m1\u001b[39m)\n\u001b[0;32m      7\u001b[0m data_sorted \u001b[38;5;241m=\u001b[39m data\u001b[38;5;241m.\u001b[39msort_values(by\u001b[38;5;241m=\u001b[39m\u001b[38;5;124m'\u001b[39m\u001b[38;5;124mTotal Marks\u001b[39m\u001b[38;5;124m'\u001b[39m, ascending\u001b[38;5;241m=\u001b[39m\u001b[38;5;28;01mTrue\u001b[39;00m)\n",
      "File \u001b[1;32m~\\anaconda3\\Lib\\site-packages\\pandas\\core\\frame.py:4102\u001b[0m, in \u001b[0;36mDataFrame.__getitem__\u001b[1;34m(self, key)\u001b[0m\n\u001b[0;32m   4100\u001b[0m \u001b[38;5;28;01mif\u001b[39;00m \u001b[38;5;28mself\u001b[39m\u001b[38;5;241m.\u001b[39mcolumns\u001b[38;5;241m.\u001b[39mnlevels \u001b[38;5;241m>\u001b[39m \u001b[38;5;241m1\u001b[39m:\n\u001b[0;32m   4101\u001b[0m     \u001b[38;5;28;01mreturn\u001b[39;00m \u001b[38;5;28mself\u001b[39m\u001b[38;5;241m.\u001b[39m_getitem_multilevel(key)\n\u001b[1;32m-> 4102\u001b[0m indexer \u001b[38;5;241m=\u001b[39m \u001b[38;5;28mself\u001b[39m\u001b[38;5;241m.\u001b[39mcolumns\u001b[38;5;241m.\u001b[39mget_loc(key)\n\u001b[0;32m   4103\u001b[0m \u001b[38;5;28;01mif\u001b[39;00m is_integer(indexer):\n\u001b[0;32m   4104\u001b[0m     indexer \u001b[38;5;241m=\u001b[39m [indexer]\n",
      "File \u001b[1;32m~\\anaconda3\\Lib\\site-packages\\pandas\\core\\indexes\\base.py:3812\u001b[0m, in \u001b[0;36mIndex.get_loc\u001b[1;34m(self, key)\u001b[0m\n\u001b[0;32m   3807\u001b[0m     \u001b[38;5;28;01mif\u001b[39;00m \u001b[38;5;28misinstance\u001b[39m(casted_key, \u001b[38;5;28mslice\u001b[39m) \u001b[38;5;129;01mor\u001b[39;00m (\n\u001b[0;32m   3808\u001b[0m         \u001b[38;5;28misinstance\u001b[39m(casted_key, abc\u001b[38;5;241m.\u001b[39mIterable)\n\u001b[0;32m   3809\u001b[0m         \u001b[38;5;129;01mand\u001b[39;00m \u001b[38;5;28many\u001b[39m(\u001b[38;5;28misinstance\u001b[39m(x, \u001b[38;5;28mslice\u001b[39m) \u001b[38;5;28;01mfor\u001b[39;00m x \u001b[38;5;129;01min\u001b[39;00m casted_key)\n\u001b[0;32m   3810\u001b[0m     ):\n\u001b[0;32m   3811\u001b[0m         \u001b[38;5;28;01mraise\u001b[39;00m InvalidIndexError(key)\n\u001b[1;32m-> 3812\u001b[0m     \u001b[38;5;28;01mraise\u001b[39;00m \u001b[38;5;167;01mKeyError\u001b[39;00m(key) \u001b[38;5;28;01mfrom\u001b[39;00m \u001b[38;5;21;01merr\u001b[39;00m\n\u001b[0;32m   3813\u001b[0m \u001b[38;5;28;01mexcept\u001b[39;00m \u001b[38;5;167;01mTypeError\u001b[39;00m:\n\u001b[0;32m   3814\u001b[0m     \u001b[38;5;66;03m# If we have a listlike key, _check_indexing_error will raise\u001b[39;00m\n\u001b[0;32m   3815\u001b[0m     \u001b[38;5;66;03m#  InvalidIndexError. Otherwise we fall through and re-raise\u001b[39;00m\n\u001b[0;32m   3816\u001b[0m     \u001b[38;5;66;03m#  the TypeError.\u001b[39;00m\n\u001b[0;32m   3817\u001b[0m     \u001b[38;5;28mself\u001b[39m\u001b[38;5;241m.\u001b[39m_check_indexing_error(key)\n",
      "\u001b[1;31mKeyError\u001b[0m: 'M2'"
     ]
    }
   ],
   "source": [
    "print(data.head())\n",
    "subjects = ['DV', 'M2', 'PP', 'BEEE', 'FL', 'FIMS']\n",
    "\n",
    "for col in subjects:\n",
    "    data[col] = pd.to_numeric(data[col], errors='coerce') \n",
    "data['Total Marks'] = data[subjects].sum(axis=1)\n",
    "data_sorted = data.sort_values(by='Total Marks', ascending=True)\n",
    "print(\"Sorted Data:\")\n",
    "print(data_sorted.head())\n",
    "output_path = 'Sorted_MIDMARKS.xlsx'  \n",
    "data_sorted.to_excel(output_path, index=False)\n",
    "\n",
    "print(f\"Data file processed successfully. Sorted file saved at: {output_path}\")\n",
    "data"
   ]
  },
  {
   "cell_type": "code",
   "execution_count": null,
   "id": "5f5b6207-f7ba-4406-b803-dc882f5b5923",
   "metadata": {},
   "outputs": [],
   "source": [
    "data.shape"
   ]
  },
  {
   "cell_type": "markdown",
   "id": "fc5c6077-c8da-4bc8-a2c0-a54ddb82d90d",
   "metadata": {},
   "source": [
    "# data is sorted"
   ]
  },
  {
   "cell_type": "code",
   "execution_count": null,
   "id": "3346b703-3d96-49db-8b07-6c636e708347",
   "metadata": {},
   "outputs": [],
   "source": [
    "import pandas as pd\n",
    "data = pd.ExcelFile('MIDMARKS.xlsx')\n",
    "sheet_name = 'SEM2 MID 1 - ALPHA'\n",
    "df = data.parse(sheet_name)\n",
    "df['DV'] = pd.to_numeric(df['DV'], errors='coerce')  \n",
    "max_dv_marks = df['DV'].max()\n",
    "\n",
    "toppers_dv = df[df['DV'] == max_dv_marks]\n",
    "\n",
    "print(f\"Toppers from DV (Highest Marks: {max_dv_marks}):\")\n",
    "print(toppers_dv)\n",
    "data\n"
   ]
  },
  {
   "cell_type": "markdown",
   "id": "818f6b20-1f06-4fd7-a48f-e638a880cb4c",
   "metadata": {},
   "source": [
    "# Toppers of Dv"
   ]
  },
  {
   "cell_type": "code",
   "execution_count": null,
   "id": "6a0c5ccb-919a-4ec3-b78e-37702f285f21",
   "metadata": {},
   "outputs": [],
   "source": [
    "import pandas as pd\n",
    "data = pd.ExcelFile('MIDMARKS.xlsx')\n",
    "sheet_name = 'SEM2 MID 1 - ALPHA'\n",
    "df = data.parse(sheet_name)\n",
    "df['DV'] = pd.to_numeric(df['DV'], errors='coerce') \n",
    "\n",
    "students_less_than_10 = df[df['DV'] < 10]\n",
    "section_wise_counts = students_less_than_10.groupby('SECTION').size()\n",
    "\n",
    "print(\"Number of students scoring less than 10 in DV, section-wise:\")\n",
    "print(section_wise_counts)\n",
    "data"
   ]
  },
  {
   "cell_type": "markdown",
   "id": "3e477913-9701-4f6a-a22a-1430c57dae70",
   "metadata": {},
   "source": [
    "# dv toppers section wise"
   ]
  },
  {
   "cell_type": "markdown",
   "id": "4dc38420-e19b-49ef-9b67-e3e57f61be1e",
   "metadata": {},
   "source": [
    "# sectionwise analysis"
   ]
  },
  {
   "cell_type": "markdown",
   "id": "133bea88-1cb9-4733-976c-822d780ef34a",
   "metadata": {},
   "source": [
    "# info"
   ]
  },
  {
   "cell_type": "code",
   "execution_count": null,
   "id": "5bf0dd11-d960-4451-85e3-ab0443522b68",
   "metadata": {},
   "outputs": [],
   "source": [
    "import pandas as pd  \n",
    "\n",
    "# Load the Excel file  \n",
    "excel_file = pd.ExcelFile('MIDMARKS.xlsx')  # Replace 'your_file.xlsx' with the actual file name  \n",
    "\n",
    "# Read the first sheet into a DataFrame  \n",
    "data = excel_file.parse(excel_file.sheet_names[0])  # Reads the first sheet  \n",
    "\n",
    "# Now you can use .head()  \n",
    "print(data.head())"
   ]
  },
  {
   "cell_type": "code",
   "execution_count": null,
   "id": "ed25daf3-57f0-4dd1-b240-6708bea0ea7c",
   "metadata": {},
   "outputs": [],
   "source": [
    "data.head(10)"
   ]
  },
  {
   "cell_type": "code",
   "execution_count": null,
   "id": "e542666e-75bf-4e7d-bdd8-4910392f2f18",
   "metadata": {},
   "outputs": [],
   "source": [
    "data.tail()"
   ]
  },
  {
   "cell_type": "code",
   "execution_count": null,
   "id": "09949e40-ef8f-46e9-b44d-96968ca5a1e0",
   "metadata": {},
   "outputs": [],
   "source": [
    "data.tail(4)"
   ]
  },
  {
   "cell_type": "code",
   "execution_count": null,
   "id": "d55a3294-21fc-4f4c-8994-e7929c3338eb",
   "metadata": {},
   "outputs": [],
   "source": [
    "data.shape"
   ]
  },
  {
   "cell_type": "code",
   "execution_count": null,
   "id": "7493178f-e23c-4793-8125-02933bade39c",
   "metadata": {},
   "outputs": [],
   "source": [
    "data=pd.read_excel(\"MIDMARKS.xlsx\",skiprows = 1)\n",
    "data"
   ]
  },
  {
   "cell_type": "code",
   "execution_count": null,
   "id": "37b0120d-16ed-45ef-bc4f-0d6a6ecb400a",
   "metadata": {},
   "outputs": [],
   "source": [
    "\n",
    "columns_to_check = [\"DV\", \"M-II\", \"PP\", \"BEEE\", \"FL\", \"FIMS\"]  \n",
    "for col in columns_to_check:  \n",
    "    if col not in data.columns:  \n",
    "        print(f\"Warning: Column '{col}' not found in the Excel file.\")  \n",
    "empty_rows = data[columns_to_check].isnull().all(axis=1)  \n",
    "data_cleaned = data[~empty_rows]  \n",
    "data_cleaned\n",
    "print(data)"
   ]
  },
  {
   "cell_type": "markdown",
   "id": "d5f37b56-e491-40a3-9839-671eff52f048",
   "metadata": {},
   "source": [
    "# CLEANING NULLS"
   ]
  },
  {
   "cell_type": "code",
   "execution_count": null,
   "id": "b88029d7-321f-4eb3-9803-b5cee7460dda",
   "metadata": {},
   "outputs": [],
   "source": [
    "import pandas as pd\n",
    "file_path = 'MIDMARKS.xlsx' \n",
    "data = pd.ExcelFile('MIDMARKS.xlsx')\n",
    "subjects = ['DV', 'M-II', 'PP', 'BEEE', 'FL', 'FIMS']\n",
    "for col in subjects:\n",
    "    df[col] = pd.to_numeric(df[col]) \n",
    "failuressubjectwise = {subject: (df[subject] < 10).sum() for subject in subjects}\n",
    "failuresdf = pd.DataFrame(list(failures_subject_wise.items()), columns=['Subject', 'Failure Count'])\n",
    "print(\"Subject-wise failure counts:\")\n",
    "print(failures_df)\n",
    "data"
   ]
  },
  {
   "cell_type": "markdown",
   "id": "af8c7e26-6682-4d4d-b084-77affd7db1a6",
   "metadata": {},
   "source": [
    " # BACKLOGS"
   ]
  },
  {
   "cell_type": "markdown",
   "id": "4fb71e0d-9e0d-4eca-bbc1-27ffb61d1408",
   "metadata": {},
   "source": [
    "import pandas as pd\n",
    "\n",
    "data= pd.read_excel(\"MIDMARKS.xlsx\")\n",
    "\n",
    "# Define the subject columns\n",
    "subjects = [\"DV\", \"M-II\", \"PP\", \"BEEE\", \"FL\", \"FIMS\"]\n",
    "\n",
    "# Replace non-numeric or invalid values with 0\n",
    "for subject in subjects:\n",
    "    data[subject] = pd.to_numeric(data[subject], errors='coerce').fillna(0)\n",
    "\n",
    "# Add a \"Backlog\" column\n",
    "data[\"Backlog\"] = data[subjects].apply(lambda row: \"Yes\" if any(row < 10) else \"No\", axis=1)\n",
    "data"
   ]
  },
  {
   "cell_type": "code",
   "execution_count": null,
   "id": "f5ce93aa-cca3-4292-908a-00873e4ba1ca",
   "metadata": {},
   "outputs": [],
   "source": [
    "D=(data['DV']<10)&(data['SECTION']=='DELTA')\n",
    "D.value_counts()"
   ]
  },
  {
   "cell_type": "markdown",
   "id": "0bd0bfa4-73d5-4c26-bb69-8a65bf531a05",
   "metadata": {},
   "source": [
    "# CHECKING BACK LOG"
   ]
  },
  {
   "cell_type": "code",
   "execution_count": null,
   "id": "7a4a6742-a30a-49a8-84c5-a567d9c5846a",
   "metadata": {},
   "outputs": [],
   "source": [
    "import pandas as pd\n",
    "data = pd.read_excel(\"MIDMARKS.xlsx\")\n",
    "# Define the subject columns\n",
    "subjects = [\"DV\", \"M-II\", \"PP\", \"BEEE\", \"FL\", \"FIMS\"]\n",
    "\n",
    "for subject in subjects:\n",
    "   data[subject] = pd.to_numeric(data[subject], errors='coerce').fillna(0)\n",
    "  # Add a \"Backlog Count\" column\n",
    "data[\"Backlog Count\"] = data[subjects].apply(lambda row: (row < 10).sum(), axis=1)\n",
    "data"
   ]
  },
  {
   "cell_type": "markdown",
   "id": "fff46afc-ad94-427f-9c80-3e39c62a9cdf",
   "metadata": {},
   "source": [
    "# BACKLOG COUNT"
   ]
  },
  {
   "cell_type": "code",
   "execution_count": null,
   "id": "44597eca-d4d4-4cf3-bc14-90bfaa2ccfe7",
   "metadata": {},
   "outputs": [],
   "source": [
    "import pandas as pd\n",
    "data = pd.read_excel(\"MIDMARKS.XLSX\")\n",
    "subjects = [\"DV\", \"M-II\", \"PP\", \"BEEE\", \"FL\", \"FIMS\"]\n",
    "for subject in subjects:\n",
    "    data[subject] = pd.to_numeric(data[subject], errors='coerce').fillna(0)\n",
    "    data[f\"{subject}_Backlog\"] = (data[subject] < 10).astype(int)\n",
    "data[\"Count\"] = data[[f\"{subject}_Backlog\" for subject in subjects]].sum(axis=1)\n",
    "data\n"
   ]
  },
  {
   "cell_type": "code",
   "execution_count": null,
   "id": "f40924c9-12fd-4af0-8b0b-ba32ba693799",
   "metadata": {},
   "outputs": [],
   "source": [
    "alpha_students_with_backlog = data[data[\"SECTION\"] == \"ALPHA\"][\"Count\"].gt(0).sum()\n",
    "print(alpha_students_with_backlog)\n"
   ]
  },
  {
   "cell_type": "code",
   "execution_count": null,
   "id": "d43d34aa-422f-4a33-b240-5e15d92cd7f4",
   "metadata": {},
   "outputs": [],
   "source": [
    "total_alpha_count = data[data[\"SECTION\"] == \"ALPHA\"].shape[0]\n",
    "print(total_alpha_count)\n",
    "\n"
   ]
  },
  {
   "cell_type": "code",
   "execution_count": null,
   "id": "11e6b029-9551-4f75-8ce9-14ea4db75811",
   "metadata": {},
   "outputs": [],
   "source": [
    "beta_students_with_backlog = data[data[\"SECTION\"] == \"BETA\"][\"Count\"].gt(0).sum()\n",
    "print(beta_students_with_backlog)\n"
   ]
  },
  {
   "cell_type": "code",
   "execution_count": null,
   "id": "057fd59a-8ec2-4810-9f15-0e05579a9029",
   "metadata": {},
   "outputs": [],
   "source": [
    "D=(data['DV']<10)&(data['SECTION']=='DELTA')\n",
    "D.value_counts()"
   ]
  },
  {
   "cell_type": "code",
   "execution_count": null,
   "id": "ac638577-dc28-4dfd-972f-45751b792c0b",
   "metadata": {},
   "outputs": [],
   "source": [
    "BACKLOG = []\n",
    "for i in range(len(data)):\n",
    "    if (data.loc[i, 'DV'] < 10 or data.loc[i, 'PP'] < 10 or data.loc[i, 'BEEE'] < 10):\n",
    "        BACKLOG.append(i)\n",
    "data['BACKLOG'] = data.index.isin(BACKLOG)\n",
    "backlog_data = data[data['BACKLOG']]\n",
    "backlog_data.head(10)"
   ]
  },
  {
   "cell_type": "code",
   "execution_count": null,
   "id": "973d21ab-789b-4692-a365-fdb35227aaf6",
   "metadata": {},
   "outputs": [],
   "source": [
    "import matplotlib.pyplot as plt\n",
    "backlog_counts = data['BACKLOG'].value_counts()\n",
    "labels = ['With Backlog', 'Without Backlog']\n",
    "plt.pie(\n",
    "    backlog_counts,\n",
    "    labels=labels,\n",
    "    autopct='%1.1f%%',\n",
    "    startangle=90,\n",
    "    colors=['red', 'green']\n",
    ")\n",
    "plt.title('Students With and Without Backlogs')\n",
    "plt.axis('equal')  \n",
    "plt.show()\n"
   ]
  },
  {
   "cell_type": "code",
   "execution_count": null,
   "id": "7b9ea15c-729c-48da-b6b9-9889ab015b8b",
   "metadata": {},
   "outputs": [],
   "source": [
    "D=(data['DV']<10)&(data['SECTION']=='DELTA')\n",
    "D.value_counts()"
   ]
  },
  {
   "cell_type": "code",
   "execution_count": null,
   "id": "198dcc0a-696b-43cf-aba9-e3f4a3649e4c",
   "metadata": {},
   "outputs": [],
   "source": [
    "data[\"Backlog Count\"] = data[['DV_Backlog', 'M-II_Backlog', 'PP_Backlog', 'BEEE_Backlog', 'FL_Backlog', 'FIMS_Backlog']].sum(axis=1)\n",
    "students_with_one_backlog = data[data[\"Backlog Count\"] == 1]\n",
    "count_with_one_backlog = len(students_with_one_backlog)\n",
    "print(f\"Number of students with exactly 1 backlog: {count_with_one_backlog}\")\n"
   ]
  },
  {
   "cell_type": "code",
   "execution_count": null,
   "id": "66356494-1e30-41da-b8d1-fec8ba21f43c",
   "metadata": {},
   "outputs": [],
   "source": [
    "data[\"Backlog Count\"] = data[['DV_Backlog', 'M-II_Backlog', 'PP_Backlog', 'BEEE_Backlog', 'FL_Backlog', 'FIMS_Backlog']].sum(axis=1)\n",
    "students_with_one_backlog = data[data[\"Backlog Count\"] == 6]\n",
    "count_with_one_backlog = len(students_with_one_backlog)\n",
    "print(f\"Number of students with exactly 1 backlog: {count_with_one_backlog}\")\n"
   ]
  },
  {
   "cell_type": "code",
   "execution_count": null,
   "id": "d02b2ffc-ee7a-4251-a3f3-4d3760518631",
   "metadata": {},
   "outputs": [],
   "source": [
    "data[\"Backlog Count\"] = data[['DV_Backlog', 'M-II_Backlog', 'PP_Backlog', 'BEEE_Backlog', 'FL_Backlog', 'FIMS_Backlog']].sum(axis=1)\n",
    "students_with_six_backlogs = data[data[\"Backlog Count\"] == 6]\n",
    "section_with_six_backlogs = students_with_six_backlogs['SECTION'].value_counts()\n",
    "highest_section = section_with_six_backlogs.idxmax()\n",
    "highest_count = section_with_six_backlogs.max()\n",
    "\n",
    "print(f\"Section '{highest_section}' has the highest number of students with 6 backlogs: {highest_count}\")\n"
   ]
  },
  {
   "cell_type": "code",
   "execution_count": null,
   "id": "f011b555-31aa-41f9-ad9c-653eaf7a20ae",
   "metadata": {},
   "outputs": [],
   "source": [
    "BACKLOG = []\n",
    "for i in range(len(data)):\n",
    "    backlog_count = 0\n",
    "    if data.loc[i, 'DV'] < 10:\n",
    "        backlog_count += 1\n",
    "    if data.loc[i, 'PP'] < 10:\n",
    "        backlog_count += 1\n",
    "    if data.loc[i, 'BEEE'] < 10:\n",
    "        backlog_count += 1\n",
    "    if data.loc[i, 'FL'] < 10:\n",
    "        backlog_count += 1\n",
    "    if data.loc[i, 'M-II'] < 10:\n",
    "        backlog_count += 1\n",
    "    if data.loc[i, 'FIMS'] < 10:\n",
    "        backlog_count += 1\n",
    "    \n",
    "    BACKLOG.append(backlog_count)\n",
    "\n",
    "data['BACKLOG_COUNT'] = BACKLOG\n",
    "\n",
    "subjects = ['DV', 'PP', 'BEEE', 'FL', 'M-II', 'FIMS']\n",
    "subject_backlogs = {subject: (data[subject] < 10).sum() for subject in subjects}\n",
    "\n",
    "max_backlogs = max(subject_backlogs.values())\n",
    "subjects_with_max_backlogs = [subject for subject, count in subject_backlogs.items() if count == max_backlogs]\n",
    "\n",
    "print(f\"Subjects with the most backlogs: {subjects_with_max_backlogs} with {max_backlogs} backlogs\")"
   ]
  },
  {
   "cell_type": "code",
   "execution_count": null,
   "id": "a6109293-1085-46d4-90ca-6f5f96f100c9",
   "metadata": {},
   "outputs": [],
   "source": [
    "BACKLOG = []\n",
    "for i in range(len(data)):\n",
    "    backlog_count = 0\n",
    "    if data.loc[i, 'DV'] < 10:\n",
    "        backlog_count += 1\n",
    "    if data.loc[i, 'PP'] < 10:\n",
    "        backlog_count += 1\n",
    "    if data.loc[i, 'BEEE'] < 10:\n",
    "        backlog_count += 1\n",
    "    if data.loc[i, 'FL'] < 10:\n",
    "        backlog_count += 1\n",
    "    if data.loc[i, 'M-II'] < 10:\n",
    "        backlog_count += 1\n",
    "    if data.loc[i, 'FIMS'] < 10:\n",
    "        backlog_count += 1\n",
    "    \n",
    "    BACKLOG.append(backlog_count)\n",
    "\n",
    "data['BACKLOG_COUNT'] = BACKLOG\n",
    "\n",
    "subjects = ['DV', 'PP', 'BEEE', 'FL', 'M-II', 'FIMS']\n",
    "subject_backlogs = {subject: (data[subject] < 10).sum() for subject in subjects}\n",
    "\n",
    "min_backlogs = min(subject_backlogs.values())\n",
    "subjects_with_min_backlogs = [subject for subject, count in subject_backlogs.items() if count == min_backlogs]\n",
    "\n",
    "print(f\"Subjects with the most backlogs: {subjects_with_min_backlogs} with {min_backlogs} backlogs\")"
   ]
  },
  {
   "cell_type": "code",
   "execution_count": null,
   "id": "8e5aa6cc-18a2-4230-ae01-222922037556",
   "metadata": {},
   "outputs": [],
   "source": [
    "data['PP'] = pd.to_numeric(data['PP'], errors='coerce')\n",
    "def assign_grade(pp):\n",
    "    if pp >= 18:\n",
    "        return 'Excellent'\n",
    "    elif pp >= 15:\n",
    "        return 'Very Good'\n",
    "    elif pp >= 10:\n",
    "        return 'Good'\n",
    "    else:\n",
    "        return 'poor'\n",
    "data['PP Grade'] = data['PP'].apply(assign_grade)\n",
    "data\n"
   ]
  },
  {
   "cell_type": "code",
   "execution_count": null,
   "id": "e14f1109-557a-4440-9272-2c0617e95fd1",
   "metadata": {},
   "outputs": [],
   "source": [
    "\n",
    "grade_counts = data['PP Grade'].value_counts()\n",
    "\n",
    "# Plot the pie chart\n",
    "plt.figure(figsize=(8, 8))\n",
    "plt.pie(\n",
    "    grade_counts, \n",
    "    labels=grade_counts.index, \n",
    "    autopct='%1.1f%%', \n",
    "    startangle=140, \n",
    "    colors=plt.cm.tab10.colors\n",
    ")\n",
    "plt.title(\"Distribution of PP Grades\", fontsize=16)\n",
    "plt.show()\n"
   ]
  },
  {
   "cell_type": "code",
   "execution_count": null,
   "id": "5eca59f1-b19e-44a8-885d-53ab19307892",
   "metadata": {},
   "outputs": [],
   "source": [
    "\n",
    "data['DV'] = pd.to_numeric(data['DV'], errors='coerce')\n",
    "\n",
    "def assign_grade(dv):\n",
    "    if dv >= 18:\n",
    "        return 'Excellent'\n",
    "    elif dv >= 15:\n",
    "        return 'Very Good'\n",
    "    elif dv >= 10:\n",
    "        return 'Good'\n",
    "    else:\n",
    "        return 'Needs Improvement'\n",
    "\n",
    "data['DV Grade'] = data['DV'].apply(assign_grade)\n",
    "\n",
    "data\n"
   ]
  },
  {
   "cell_type": "code",
   "execution_count": null,
   "id": "013981f0-9933-4eda-b04e-460950753d95",
   "metadata": {},
   "outputs": [],
   "source": [
    "\n",
    "grade_counts = data['DV Grade'].value_counts()t\n",
    "plt.figure(figsize=(8, 8))\n",
    "plt.pie(\n",
    "    grade_counts, \n",
    "    labels=grade_counts.index, \n",
    "    autopct='%1.1f%%', \n",
    "    startangle=140, \n",
    "    colors=plt.cm.tab10.colors\n",
    ")\n",
    "plt.title(\"Distribution of DV Grades\", fontsize=16)\n",
    "plt.show()\n"
   ]
  },
  {
   "cell_type": "code",
   "execution_count": null,
   "id": "efcd3afc-d6a3-4e4d-aa21-54800e2464e3",
   "metadata": {},
   "outputs": [],
   "source": [
    "\n",
    "data['DV Grade'] = data['DV'].apply(assign_grade)\n",
    "grade_counts = data[\"DV Grade\"].value_counts()\n",
    "\n",
    "# Plot the pie chart\n",
    "plt.pie(grade_counts, labels=grade_counts.index, autopct='%1.1f%%', colors=plt.cm.Paired.colors)\n",
    "plt.title(\"Distribution of Programming Skills Grades\")\n",
    "plt.show()\n",
    "\n",
    "print(data)"
   ]
  },
  {
   "cell_type": "code",
   "execution_count": null,
   "id": "b0e475b8-caae-4e38-82bb-c1e966c44f5f",
   "metadata": {},
   "outputs": [],
   "source": [
    "plt.figure(figsize=(8, 8))\n",
    "plt.pie(\n",
    "    grade_counts,\n",
    "    labels=grade_counts.index,\n",
    "    autopct='%1.1f%%',\n",
    "    startangle=140,\n",
    "    colors=plt.cm.Paired.colors\n",
    ")\n",
    "plt.title(\"Distribution of Programming Skills Grades\")\n",
    "plt.show()\n",
    "print(data)\n"
   ]
  },
  {
   "cell_type": "code",
   "execution_count": null,
   "id": "f1adbb9c-5032-40f2-b315-518d11da22c8",
   "metadata": {},
   "outputs": [],
   "source": [
    "very_good_count = data[data['DV Grade'] == 'Very Good'].shape[0]\n",
    "\n",
    "print(f\"Number of students who got 'Very Good': {very_good_count}\")"
   ]
  },
  {
   "cell_type": "code",
   "execution_count": null,
   "id": "3b83ea31-fcc5-4b93-a443-8737b899142d",
   "metadata": {},
   "outputs": [],
   "source": [
    "import matplotlib.pyplot as plt\n",
    "skill_counts = df['DV'].value_counts()\n",
    "skill_counts.plot(kind='bar', color=['blue', 'green', 'red', 'yellow'])\n",
    "plt.title('Skill Distribution')\n",
    "plt.xlabel('Skills')\n",
    "plt.ylabel('Count')\n",
    "plt.xticks(rotation=45)\n",
    "plt.grid(axis='y')\n",
    "plt.show()\n",
    "print(skill_counts)\n"
   ]
  },
  {
   "cell_type": "code",
   "execution_count": null,
   "id": "dfc896e7-cd17-4ba4-88d4-345d34bd480b",
   "metadata": {},
   "outputs": [],
   "source": [
    "\n",
    "very_good_count = data[data['DV Grade'] == 'Very Good'].shape[0]\n",
    "\n",
    "print(f\"Number of students who got 'Very Good': {very_good_count}\")"
   ]
  },
  {
   "cell_type": "code",
   "execution_count": null,
   "id": "0d3ff997-fb39-41f9-89e4-7ac458be6700",
   "metadata": {},
   "outputs": [],
   "source": [
    "very_good_count = grade_counts.get('Very Good', 0)\n",
    "print(f\"Number of students who got 'Very Good': {very_good_count}\")\n",
    "plt.figure(figsize=(8, 8))\n",
    "plt.pie(\n",
    "    grade_counts, \n",
    "    labels=grade_counts.index, \n",
    "    autopct='%1.1f%%', \n",
    "    startangle=140, \n",
    "    colors=plt.cm.Paired.colors\n",
    ")\n",
    "plt.title(\"Distribution of DV Grades\", fontsize=16)\n",
    "plt.show()"
   ]
  },
  {
   "cell_type": "code",
   "execution_count": null,
   "id": "232030b8-4039-4ccc-b2df-43ad823ed817",
   "metadata": {},
   "outputs": [],
   "source": [
    "very_good_count1 = data[data['PP Grade'] == 'Very Good'].shape[0]\n",
    "\n",
    "print(f\"Number of students who got 'Very Good': {very_good_count}\")"
   ]
  },
  {
   "cell_type": "code",
   "execution_count": null,
   "id": "7c969339-d28a-46ac-a4b8-ad6a983a64aa",
   "metadata": {},
   "outputs": [],
   "source": [
    "very_good_count1 = grade_counts.get('Very Good', 0)\n",
    "print(f\"Number of students who got 'Very Good': {very_good_count1}\")\n",
    "plt.pie(\n",
    "    grade_counts, \n",
    "    labels=grade_counts.index, \n",
    "    autopct='%1.1f%%', \n",
    "    startangle=140, \n",
    "    colors=plt.cm.Paired.colors\n",
    ")\n",
    "plt.title(\"Distribution of PP Grades\", fontsize=16)\n",
    "plt.show()"
   ]
  },
  {
   "cell_type": "code",
   "execution_count": null,
   "id": "c887dc4e-96a9-4b2a-9a0f-def680532e1a",
   "metadata": {},
   "outputs": [],
   "source": [
    "data['BEEE'] = pd.to_numeric(data['BEEE'], errors='coerce')\n",
    "def assign_grade(pp):\n",
    "    if pp >= 18:\n",
    "        return 'Excellent'\n",
    "    elif pp >= 15:\n",
    "        return 'Very Good'\n",
    "    elif pp >= 10:\n",
    "        return 'Good'\n",
    "    else:\n",
    "        return 'poor'\n",
    "data['BEEE Grade'] = data['BEEE'].apply(assign_grade)\n",
    "data\n"
   ]
  },
  {
   "cell_type": "code",
   "execution_count": null,
   "id": "ae44dac0-1d3b-4e8c-bf5e-7e368c26c310",
   "metadata": {},
   "outputs": [],
   "source": [
    "very_good_count1 = data[data['BEEE Grade'] == 'Very Good'].shape[0]\n",
    "\n",
    "print(f\"Number of students who got 'Very Good': {very_good_count}\")"
   ]
  },
  {
   "cell_type": "code",
   "execution_count": null,
   "id": "8e58d3d7-b545-49f6-9c18-91e3946fd855",
   "metadata": {},
   "outputs": [],
   "source": [
    "very_good_count1 = grade_counts.get('Very Good', 0)\n",
    "print(f\"Number of students who got 'Very Good': {very_good_count1}\")\n",
    "plt.pie(\n",
    "    grade_counts, \n",
    "    labels=grade_counts.index, \n",
    "    autopct='%1.1f%%', \n",
    "    startangle=140, \n",
    "    colors=plt.cm.Paired.colors\n",
    ")\n",
    "plt.title(\"Distribution of BEEE Grades\", fontsize=16)\n",
    "plt.show()"
   ]
  },
  {
   "cell_type": "code",
   "execution_count": null,
   "id": "33131daf-5976-4355-9949-c726d752be9f",
   "metadata": {},
   "outputs": [],
   "source": [
    "import matplotlib.pyplot as plt\n",
    "backlog_counts = data['BACKLOG'].value_counts()\n",
    "labels = ['With Backlog', 'Without Backlog']\n",
    "plt.pie(\n",
    "    backlog_counts,\n",
    "    labels=labels,\n",
    "    autopct='%1.1f%%',\n",
    "    startangle=90,\n",
    "    colors=['red', 'green']\n",
    ")\n",
    "plt.title('Students With and Without Backlogs')\n",
    "plt.axis('equal')  \n",
    "plt.show()\n"
   ]
  },
  {
   "cell_type": "markdown",
   "id": "211f49e8-22d3-4482-b2e2-a146d02eff40",
   "metadata": {},
   "source": [
    "# checking subjects\n"
   ]
  },
  {
   "cell_type": "code",
   "execution_count": null,
   "id": "422f3c43-09b6-43de-a54c-55b773bcbcb3",
   "metadata": {},
   "outputs": [],
   "source": [
    " db=pd.read_excel(\"MIDMARKS.xlsx\",usecols=['DV','BEEE'])\n",
    " db"
   ]
  },
  {
   "cell_type": "code",
   "execution_count": null,
   "id": "2b333e8a-8dee-4fea-bc65-c3c72f0bdbf0",
   "metadata": {},
   "outputs": [],
   "source": [
    " dp=pd.read_excel(\"MIDMARKS.xlsx\",usecols=['DV','PP'])\n",
    " dp"
   ]
  },
  {
   "cell_type": "code",
   "execution_count": null,
   "id": "d825e670-8c2a-4cfb-a3d4-2ace971bc765",
   "metadata": {},
   "outputs": [],
   "source": [
    "data.isnull().sum()"
   ]
  },
  {
   "cell_type": "code",
   "execution_count": null,
   "id": "a3bbc9c5-aadc-4663-9daa-320a783dba83",
   "metadata": {},
   "outputs": [],
   "source": [
    " data.fillna(0)"
   ]
  },
  {
   "cell_type": "code",
   "execution_count": null,
   "id": "1e321871-9eee-466c-b0f0-b9e64d62959f",
   "metadata": {},
   "outputs": [],
   "source": [
    "data.fillna(0,inplace=True)\n",
    "data"
   ]
  },
  {
   "cell_type": "markdown",
   "id": "55b3bbf4-0275-4be3-ab1e-f881104d0381",
   "metadata": {},
   "source": [
    "# HISTOGRAM"
   ]
  },
  {
   "cell_type": "code",
   "execution_count": null,
   "id": "e5d03547-6559-422b-865c-c63bb41c7b81",
   "metadata": {},
   "outputs": [],
   "source": [
    " sheet_name = 'your_sheet_name'\n",
    " data['DV'] = pd.to_numeric(data['DV'], errors='coerce')\n",
    " plt.figure(figsize=(6, 4))\n",
    " plt.hist(data['DV'].dropna(), bins=10, color='blue', edgecolor='black', alpha=0.7)\n",
    " plt.title('Histogram of DV')\n",
    " plt.xlabel('Marks')\n",
    " plt.ylabel('Frequency')\n",
    " plt.grid(axis='y', linestyle='--', alpha=0.7)\n",
    " plt.show()"
   ]
  },
  {
   "cell_type": "code",
   "execution_count": null,
   "id": "96a1624a-c87a-4f69-8699-3a47bb19f402",
   "metadata": {},
   "outputs": [],
   "source": [
    " data['M-II'] = pd.to_numeric(data['M-II'], errors='coerce')\n",
    " plt.hist(data['M-II'].dropna(), bins=10, color='red', edgecolor='black', alpha=0.7)\n",
    " plt.title('Histogram of M-II')\n",
    " plt.xlabel('Marks')\n",
    " plt.ylabel('Frequency')\n",
    " plt.grid(axis='y', linestyle='--', alpha=0.7)\n",
    " plt.show()"
   ]
  },
  {
   "cell_type": "code",
   "execution_count": null,
   "id": "6877ccac-546e-4414-a54b-a3c1fa2fb2a2",
   "metadata": {},
   "outputs": [],
   "source": [
    " data['PP'] = pd.to_numeric(data['PP'], errors='coerce')\n",
    " plt.hist(data['PP'].dropna(), bins=10, color='LAVENDER', edgecolor='black',alpha=0.7)\n",
    " plt.title('Histogram of PP')\n",
    " plt.xlabel('Marks')\n",
    " plt.ylabel('Frequency')\n",
    " plt.grid(axis='y', linestyle='--', alpha=0.7)\n",
    " plt.show()"
   ]
  },
  {
   "cell_type": "code",
   "execution_count": null,
   "id": "1b34a109-3565-4296-bdac-a2793e2daab4",
   "metadata": {},
   "outputs": [],
   "source": [
    " data['BEEE'] = pd.to_numeric(data['BEEE'], errors='coerce')\n",
    " plt.hist(data['BEEE'].dropna(), bins=10, color='BLACK', edgecolor='black',alpha=0.7)\n",
    " plt.title('Histogram of BEEE')\n",
    " plt.xlabel('Marks')\n",
    " plt.ylabel('Frequency')\n",
    " plt.grid(axis='y', linestyle='--', alpha=0.7)\n",
    " plt.show()"
   ]
  },
  {
   "cell_type": "code",
   "execution_count": null,
   "id": "df639542-b1fa-4d19-8062-a53bc8271772",
   "metadata": {},
   "outputs": [],
   "source": [
    " data['FL'] = pd.to_numeric(data['FL'], errors='coerce')\n",
    " plt.hist(data['FL'].dropna(), bins=10, color='BROWN', edgecolor='BROWN',alpha=0.7)\n",
    " plt.title('Histogram of FL')\n",
    " plt.xlabel('Marks')\n",
    " plt.ylabel('Frequency')\n",
    " plt.grid(axis='y', linestyle='--', alpha=0.7)\n",
    " plt.show()"
   ]
  },
  {
   "cell_type": "code",
   "execution_count": null,
   "id": "dc05187d-754a-43e2-bd27-80355f059bee",
   "metadata": {},
   "outputs": [],
   "source": [
    " data['FIMS'] = pd.to_numeric(data['FIMS'], errors='coerce')\n",
    " plt.hist(data['FIMS'].dropna(), bins=10, color='BROWN', edgecolor='BROWN',alpha=0.7)\n",
    " plt.title('Histogram of FIMS')\n",
    " plt.xlabel('Marks')\n",
    " plt.ylabel('Frequency')\n",
    " plt.grid(axis='y', linestyle='--', alpha=0.7)\n",
    " plt.show()"
   ]
  },
  {
   "cell_type": "markdown",
   "id": "50a1ec4f-ee3c-41ec-8185-112690ed3c8b",
   "metadata": {},
   "source": [
    "# PIE CHARTS"
   ]
  },
  {
   "cell_type": "code",
   "execution_count": null,
   "id": "c712a57e-f9b2-4bea-830b-6bacc7502cd4",
   "metadata": {},
   "outputs": [],
   "source": [
    "subject_column = 'DV' \n",
    "\n",
    "df_cleaned = df.copy()\n",
    "df_cleaned[subject_column] = pd.to_numeric(df_cleaned[subject_column], errors='coerce')\n",
    "\n",
    "df_cleaned = df_cleaned.dropna(subset=[subject_column])\n",
    "\n",
    "labels = df_cleaned['S.NO'] \n",
    "values = df_cleaned[subject_column]\n",
    "\n",
    "plt.figure(figsize=(6, 6))\n",
    "plt.pie(values, labels=labels, autopct='%1.1f%%', startangle=90)\n",
    "plt.title(f\"Pie Chart for {subject_column}\")\n",
    "plt.show()\n"
   ]
  },
  {
   "cell_type": "code",
   "execution_count": null,
   "id": "f8dcd181-ee50-445c-a441-c2742b19b38a",
   "metadata": {},
   "outputs": [],
   "source": [
    "\n",
    "subject_column = 'PP'  \n",
    "df_cleaned = df.copy()\n",
    "df_cleaned[subject_column] = pd.to_numeric(df_cleaned[subject_column], errors='coerce')\n",
    "\n",
    "df_cleaned = df_cleaned.dropna(subset=[subject_column])\n",
    "\n",
    "labels = df_cleaned['S.NO']  \n",
    "values = df_cleaned[subject_column]\n",
    "\n",
    "plt.figure(figsize=(6, 6))\n",
    "plt.pie(values, labels=labels, autopct='%1.1f%%', startangle=90)\n",
    "plt.title(f\"Pie Chart for {subject_column}\")\n",
    "plt.show()\n"
   ]
  },
  {
   "cell_type": "code",
   "execution_count": null,
   "id": "c260b4e7-d319-476f-967a-3fb4284aff62",
   "metadata": {},
   "outputs": [],
   "source": [
    "\n",
    "print(data.columns) \n"
   ]
  },
  {
   "cell_type": "code",
   "execution_count": null,
   "id": "a226c4c2-f30b-4166-bdec-b9a5cdd52820",
   "metadata": {},
   "outputs": [],
   "source": [
    "print(data.columns)\n"
   ]
  },
  {
   "cell_type": "code",
   "execution_count": null,
   "id": "2d9d51b7-2876-405a-8dfd-0a46d62aeaf3",
   "metadata": {},
   "outputs": [],
   "source": [
    "print(data['FIMS'].unique())\n",
    "\n"
   ]
  },
  {
   "cell_type": "code",
   "execution_count": null,
   "id": "1cddd9d0-e0d0-41a6-8894-acf69dda0407",
   "metadata": {},
   "outputs": [],
   "source": [
    "data['FIMS'] = pd.to_numeric(data['FIMS'], errors='coerce')\n",
    "data = data.dropna(subset=['FIMS'])\n"
   ]
  },
  {
   "cell_type": "code",
   "execution_count": null,
   "id": "f86453e1-80a1-434c-8547-99cf4ed9acfe",
   "metadata": {},
   "outputs": [],
   "source": [
    "import pandas as pd\n",
    "import matplotlib.pyplot as plt\n",
    "df['DV'] = pd.to_numeric(df['DV'], errors='coerce')\n",
    "dv_ranges = pd.cut(\n",
    "    df['DV'].dropna(),\n",
    "    bins=[0, 20, 40, 60, 80, 100],\n",
    "    labels=['0-20', '21-40', '41-60', '61-80', '81-100'],\n",
    "    include_lowest=True\n",
    ")\n",
    "dv_counts = dv_ranges.value_counts()\n",
    "plt.figure(figsize=(8, 8))\n",
    "plt.pie(\n",
    "    dv_counts,\n",
    "    labels=dv_counts.index,\n",
    "    autopct='%1.1f%%',\n",
    "    startangle=140,\n",
    "    colors=plt.cm.tab10.colors[:len(dv_counts)]\n",
    ")\n",
    "plt.title('Distribution of DV Marks')\n",
    "plt.show()"
   ]
  },
  {
   "cell_type": "markdown",
   "id": "e4dc9e33-76bc-4b9e-8cb3-471389878357",
   "metadata": {},
   "source": [
    "# BAR GRAPHS"
   ]
  },
  {
   "cell_type": "code",
   "execution_count": null,
   "id": "dce12b39-45cd-48e2-b422-7f06f2e4dac9",
   "metadata": {},
   "outputs": [],
   "source": [
    "df['PP'] = pd.to_numeric(df['PP'], errors='coerce')\n",
    "\n",
    "pp_ranges = pd.cut(\n",
    "    df['PP'].dropna(),  \n",
    "    bins=[0, 5, 10, 15, 20], \n",
    "    labels=['0-5', '5-10', '10-15', '15-20'],\n",
    "    include_lowest=True\n",
    ")\n",
    "\n",
    "pp_counts = pp_ranges.value_counts()\n",
    "\n",
    "plt.figure(figsize=(10, 6))\n",
    "pp_counts.sort_index().plot(kind='bar', color='skyblue', edgecolor='black')\n",
    "plt.title('Distribution of PP Marks', fontsize=16)\n",
    "plt.xlabel('Marks Range', fontsize=14)\n",
    "plt.ylabel('Number of Students', fontsize=14)\n",
    "plt.xticks(rotation=45, fontsize=12)\n",
    "plt.grid(axis='y', linestyle='--', alpha=0.7)\n",
    "plt.tight_layout()\n",
    "plt.show()\n"
   ]
  },
  {
   "cell_type": "code",
   "execution_count": null,
   "id": "4ccb17a1-973d-45c2-8615-5525638e4280",
   "metadata": {},
   "outputs": [],
   "source": [
    "df['DV'] = pd.to_numeric(df['DV'], errors='coerce')\n",
    "\n",
    "pp_ranges = pd.cut(\n",
    "    df['DV'].dropna(),\n",
    "    bins=[0, 5, 10, 15, 20],\n",
    "    labels=['0-5', '5-10', '10-15', '15-20'],\n",
    ")\n",
    "plt.figure(figsize=(10, 6))\n",
    "pp_counts.sort_index().plot(kind='bar', color='GREEN', edgecolor='black')\n",
    "plt.title('Distribution of DV Marks', fontsize=16)\n",
    "plt.xlabel('Marks Range', fontsize=14)\n",
    "plt.ylabel('Number of Students', fontsize=14)\n",
    "plt.xticks(rotation=45, fontsize=12)\n",
    "plt.grid(axis='y', linestyle='--', alpha=0.7)\n",
    "plt.tight_layout()\n",
    "plt.show()"
   ]
  },
  {
   "cell_type": "code",
   "execution_count": null,
   "id": "3b72622c-a681-422f-bce1-3b6f32417609",
   "metadata": {},
   "outputs": [],
   "source": [
    "df['BEEE'] = pd.to_numeric(df['BEEE'], errors='coerce')\n",
    "\n",
    "pp_ranges = pd.cut(\n",
    "    df['BEEE'].dropna(), \n",
    "    bins=[0, 5, 10, 15, 20], \n",
    "    labels=['0-5', '5-10', '10-15', '15-20'], \n",
    "    include_lowest=True\n",
    ")\n",
    "\n",
    "pp_counts = pp_ranges.value_counts()\n",
    "\n",
    "plt.figure(figsize=(10, 6))\n",
    "pp_counts.sort_index().plot(kind='bar', color='RED', edgecolor='black')\n",
    "plt.title('Distribution of BEEE Marks', fontsize=16)\n",
    "plt.xlabel('Marks Range', fontsize=14)\n",
    "plt.ylabel('Number of Students', fontsize=14)\n",
    "plt.xticks(rotation=45, fontsize=12)\n",
    "plt.grid(axis='y', linestyle='--', alpha=0.7)\n",
    "plt.tight_layout()\n",
    "plt.show()"
   ]
  },
  {
   "cell_type": "markdown",
   "id": "a44ba260-e7f8-466d-9d10-cbd1f537f139",
   "metadata": {},
   "source": [
    "# BAR CHARTS"
   ]
  },
  {
   "cell_type": "code",
   "execution_count": null,
   "id": "48052d2b-e1cd-4592-b26a-210807e82fe2",
   "metadata": {},
   "outputs": [],
   "source": [
    "data['DV'] = pd.to_numeric(data['DV'], errors='coerce')\n",
    "plt.figure(figsize=(10, 6))\n",
    "plt.bar(data.index, data['DV'], color='green')\n",
    "plt.title(\"Bar Chart of Total Scores\", fontsize=16)\n",
    "plt.xlabel(\"Index\", fontsize=14)\n",
    "plt.ylabel(\"Total Score (DV)\", fontsize=14)\n",
    "plt.xticks(rotation=45, fontsize=12)\n",
    "plt.tight_layout()\n",
    "plt.show()\n"
   ]
  },
  {
   "cell_type": "code",
   "execution_count": null,
   "id": "b1532a2b-e107-4c7f-b302-e1d0d9c2f65a",
   "metadata": {},
   "outputs": [],
   "source": [
    "data['M-II'] = pd.to_numeric(data['M-II'], errors='coerce')\n",
    "\n",
    "plt.figure(figsize=(10, 6))\n",
    "plt.bar(data.index, data['M-II'], color='SKYBLUE')\n",
    "plt.title(\"Bar Chart of Total Scores\", fontsize=16)\n",
    "plt.xlabel(\"Index\", fontsize=14)\n",
    "plt.ylabel(\"Total Score (M-II)\", fontsize=14)\n",
    "plt.xticks(rotation=45, fontsize=12)\n",
    "plt.tight_layout()\n",
    "plt.show()\n"
   ]
  },
  {
   "cell_type": "code",
   "execution_count": null,
   "id": "a101eab1-1ee1-4680-a8ef-8091b5d679b2",
   "metadata": {},
   "outputs": [],
   "source": [
    "data['PP'] = pd.to_numeric(data['PP'], errors='coerce')\n",
    "\n",
    "plt.figure(figsize=(10, 6))\n",
    "plt.bar(data.index, data['PP'], color='RED')\n",
    "plt.title(\"Bar Chart of Total Scores\", fontsize=16)\n",
    "plt.xlabel(\"Index\", fontsize=14)\n",
    "plt.ylabel(\"Total Score (PP)\", fontsize=14)\n",
    "plt.xticks(rotation=45, fontsize=12)\n",
    "plt.tight_layout()\n",
    "plt.show()\n"
   ]
  },
  {
   "cell_type": "code",
   "execution_count": null,
   "id": "b5b3586e-d334-4fc3-8f41-14dda51f72be",
   "metadata": {},
   "outputs": [],
   "source": [
    "data['PP'] = pd.to_numeric(data['PP'], errors='coerce')\n",
    "data_cleaned = data.dropna(subset=['PP'])\n",
    "plt.figure(figsize=(8, 8))\n",
    "plt.pie(\n",
    "    data_cleaned['PP'], \n",
    "    labels=data_cleaned.index,  \n",
    "    autopct='%1.1f%%',        \n",
    "    startangle=140,           \n",
    "    colors=plt.cm.tab20.colors \n",
    ")\n",
    "plt.title(\"Pie Chart of Total Scores (PP)\", fontsize=16)\n",
    "plt.show()\n"
   ]
  },
  {
   "cell_type": "code",
   "execution_count": null,
   "id": "6ada42f1-27a1-4c6b-a65d-6ffba436cdc7",
   "metadata": {},
   "outputs": [],
   "source": [
    "data['BEEE'] = pd.to_numeric(data['BEEE'], errors='coerce')\n",
    "\n",
    "plt.figure(figsize=(10, 6))\n",
    "plt.bar(data.index, data['BEEE'], color='BLACK')\n",
    "plt.title(\"Bar Chart of Total Scores\", fontsize=16)\n",
    "plt.xlabel(\"Index\", fontsize=14)\n",
    "plt.ylabel(\"Total Score (BEEE)\", fontsize=14)\n",
    "plt.xticks(rotation=45, fontsize=12)\n",
    "plt.tight_layout()\n",
    "plt.show()\n"
   ]
  },
  {
   "cell_type": "code",
   "execution_count": null,
   "id": "a2ec0387-6082-4ec2-ae19-aaa78a96fc34",
   "metadata": {},
   "outputs": [],
   "source": [
    "data['FIMS'] = pd.to_numeric(data['FIMS'], errors='coerce')\n",
    "\n",
    "plt.figure(figsize=(10, 6))\n",
    "plt.bar(data.index, data['FIMS'], color='ORANGE')\n",
    "plt.title(\"Bar Chart of Total Scores\", fontsize=16)\n",
    "plt.xlabel(\"Index\", fontsize=14)\n",
    "plt.ylabel(\"Total Score (FIMS)\", fontsize=14)\n",
    "plt.xticks(rotation=45, fontsize=12)\n",
    "plt.tight_layout()\n",
    "plt.show()\n"
   ]
  },
  {
   "cell_type": "code",
   "execution_count": null,
   "id": "d4899090-117f-45fc-8121-2f8adae64cd5",
   "metadata": {},
   "outputs": [],
   "source": [
    "data['FL'] = pd.to_numeric(data['FL'], errors='coerce')\n",
    "\n",
    "plt.figure(figsize=(10, 6))\n",
    "plt.bar(data.index, data['FL'], color='BROWN')\n",
    "plt.title(\"Bar Chart of Total Scores\", fontsize=16)\n",
    "plt.xlabel(\"Index\", fontsize=14)\n",
    "plt.ylabel(\"Total Score (FIMS)\", fontsize=14)\n",
    "plt.xticks(rotation=45, fontsize=12)\n",
    "plt.tight_layout()\n",
    "plt.show()\n"
   ]
  },
  {
   "cell_type": "markdown",
   "id": "8f3d5d56-d760-4faa-ac33-2ff176c27118",
   "metadata": {},
   "source": [
    "# BAR SLOTS"
   ]
  },
  {
   "cell_type": "code",
   "execution_count": null,
   "id": "6c28862d-0a54-4d5e-bdca-663cf48d89bf",
   "metadata": {},
   "outputs": [],
   "source": [
    "import matplotlib.pyplot as plt\n",
    "\n",
    "# Assign numeric labels to categories\n",
    "x_positions = range(len(section_dv))  # Generate numeric labels for sections\n",
    "\n",
    "# Plot the bar chart\n",
    "plt.figure(figsize=(10, 6))\n",
    "plt.bar(x_positions, section_dv.values, color='red')  # Use numeric labels\n",
    "plt.xticks(x_positions, section_dv.index, rotation=45, fontsize=12)  # Map numeric labels to section names\n",
    "plt.xlabel('Section', fontsize=14)\n",
    "plt.ylabel('Average DV', fontsize=14)\n",
    "plt.title('Average DV by Section', fontsize=16)\n",
    "plt.tight_layout()\n",
    "plt.show()\n"
   ]
  },
  {
   "cell_type": "code",
   "execution_count": null,
   "id": "295ab4e4-c585-4ae0-bf89-b724f8c5cd5c",
   "metadata": {},
   "outputs": [],
   "source": []
  },
  {
   "cell_type": "code",
   "execution_count": null,
   "id": "246153fe-b18d-43fb-bbe5-587555c7a1ed",
   "metadata": {},
   "outputs": [],
   "source": [
    "import matplotlib.pyplot as plt\n",
    "\n",
    "# Assign numeric labels to categories\n",
    "x_positions = range(len(section_dv))  # Generate numeric labels for sections\n",
    "\n",
    "# Plot the bar chart\n",
    "plt.figure(figsize=(10, 6))\n",
    "plt.bar(x_positions, section_dv.values, color='red')  # Use numeric labels\n",
    "plt.xticks(x_positions, section_dv.index, rotation=45, fontsize=12)  # Map numeric labels to section names\n",
    "plt.xlabel('Section', fontsize=14)\n",
    "plt.ylabel('Average DV', fontsize=14)\n",
    "plt.title('Average DV by Section', fontsize=16)\n",
    "plt.tight_layout()\n",
    "plt.show()\n"
   ]
  },
  {
   "cell_type": "code",
   "execution_count": null,
   "id": "068a8d92-c99a-40e5-933a-28d8ce974e8b",
   "metadata": {},
   "outputs": [],
   "source": [
    "\n",
    "data['BEEE'] = pd.to_numeric(data['BEEE'], errors='coerce')\n",
    "\n",
    "non_numeric_beee = data[data['BEEE'].isna()]\n",
    "\n",
    "data_cleaned = data.dropna(subset=['BEEE'])\n",
    "\n",
    "\n",
    "import matplotlib.pyplot as plt\n",
    "\n",
    "section_beee = data_cleaned.groupby('SECTION')['BEEE'].mean()\n",
    "\n",
    "plt.figure(figsize=(10, 6))\n",
    "plt.bar(section_beee.index, section_beee.values, color='yellow')\n",
    "plt.xlabel('Section')\n",
    "plt.ylabel('Average BEEE')\n",
    "plt.title('Average BEEE by Section')\n",
    "plt.xticks(rotation=45)\n",
    "plt.tight_layout()\n",
    "plt.show()\n"
   ]
  },
  {
   "cell_type": "code",
   "execution_count": null,
   "id": "6cc4b578-cb7f-4c0d-a123-12da66a00af7",
   "metadata": {},
   "outputs": [],
   "source": [
    "data['FIMS'] = pd.to_numeric(data['FIMS'], errors='coerce')\n",
    "\n",
    "non_numeric_beee = data[data['FIMS'].isna()]\n",
    "\n",
    "data_cleaned = data.dropna(subset=['FIMS'])\n",
    "\n",
    "\n",
    "import matplotlib.pyplot as plt\n",
    "section_fims = data_cleaned.groupby('SECTION')['FIMS'].mean()\n",
    "\n",
    "plt.figure(figsize=(10, 6))\n",
    "plt.bar(section_beee.index, section_beee.values, color='GREEN')\n",
    "plt.xlabel('Section')\n",
    "plt.ylabel('Average FIMS')\n",
    "plt.title('Average FIMS by Section')\n",
    "plt.xticks(rotation=45)\n",
    "plt.tight_layout()\n",
    "plt.show()\n"
   ]
  },
  {
   "cell_type": "code",
   "execution_count": null,
   "id": "f96cfd19-9e73-493f-9dae-53482934f6d4",
   "metadata": {},
   "outputs": [],
   "source": [
    "data['FL'] = pd.to_numeric(data['FL'], errors='coerce')\n",
    "\n",
    "non_numeric_beee = data[data['FL'].isna()]\n",
    "\n",
    "data_cleaned = data.dropna(subset=['FL'])\n",
    "\n",
    "\n",
    "import matplotlib.pyplot as plt\n",
    "\n",
    "section_FL = data_cleaned.groupby('SECTION')['FL'].mean()\n",
    "\n",
    "plt.figure(figsize=(10, 6))\n",
    "plt.bar(section_beee.index, section_beee.values, color='GRAY')\n",
    "plt.xlabel('Section')\n",
    "plt.ylabel('Average FL')\n",
    "plt.title('Average FL by Section')\n",
    "plt.xticks(rotation=45)\n",
    "plt.tight_layout()\n",
    "plt.show()\n"
   ]
  },
  {
   "cell_type": "code",
   "execution_count": null,
   "id": "2e0487f4-cf17-47f8-ad59-a4b1f97ae7fd",
   "metadata": {},
   "outputs": [],
   "source": [
    "data['M-II'] = pd.to_numeric(data['M-II'], errors='coerce')\n",
    "non_numeric_beee = data[data['M-II'].isna()]\n",
    "data_cleaned = data.dropna(subset=['M-II'])\n",
    "import matplotlib.pyplot as plt\n",
    "section_FL = data_cleaned.groupby('SECTION')['M-II'].mean()\n",
    "plt.figure(figsize=(10, 6))\n",
    "plt.bar(section_beee.index, section_beee.values, color='GRAY')\n",
    "plt.xlabel('Section')\n",
    "plt.ylabel('Average M-II')\n",
    "plt.title('Average M-II by Section')\n",
    "plt.xticks(rotation=45)\n",
    "plt.tight_layout()\n",
    "plt.show()\n"
   ]
  },
  {
   "cell_type": "code",
   "execution_count": null,
   "id": "9c4f4c0f-3a16-467e-8897-e4290d2886ca",
   "metadata": {},
   "outputs": [],
   "source": [
    "import matplotlib.pyplot as plt\n",
    "subjects = ['DV', 'PP', 'BEEE', 'FL', 'M-II', 'FIMS']\n",
    "for subject in subjects:\n",
    "    df[subject] = pd.to_numeric(df[subject], errors='coerce')\n",
    "\n",
    "# Plot histograms for each subject\n",
    "plt.figure(figsize=(15, 10))\n",
    "for i, subject in enumerate(subjects, 1):\n",
    "    plt.subplot(2, 3, i)\n",
    "    plt.hist(df[subject], bins=10, color='skyblue', edgecolor='black')\n",
    "    plt.title(f'{subject} Score Distribution')\n",
    "    plt.xlabel('Scores')\n",
    "    plt.ylabel('Frequency')\n",
    "    plt.axvline(x=10, color='red', linestyle='--', label='Backlog Threshold')\n",
    "    plt.legend()\n",
    "\n",
    "plt.tight_layout()\n",
    "plt.show()\n"
   ]
  },
  {
   "cell_type": "code",
   "execution_count": null,
   "id": "2cfbf026-3154-49e3-9cfc-bac6910b03c7",
   "metadata": {},
   "outputs": [],
   "source": [
    "# Calculate the total score by summing all numeric subject columns\n",
    "data['Total'] = data.select_dtypes(include='number').sum(axis=1)\n",
    "\n",
    "# Display the DataFrame with the new Total column\n",
    "print(data)\n",
    "\n",
    "# Save the updated file with the Total column\n",
    "output_path = 'MIDMARKS_with_total_all_subjects.xlsx'\n",
    "data.to_excel(output_path, index=False)\n",
    "print(f\"Updated file saved to {output_path}\")\n",
    "data"
   ]
  },
  {
   "cell_type": "code",
   "execution_count": null,
   "id": "7a51fd87-a855-47a7-a063-9a30fa5c3597",
   "metadata": {},
   "outputs": [],
   "source": [
    "total_20_count = data[data['Total'] == 20].shape[0]\n",
    "\n",
    "print(f\"Number of students with a total score of 20: {total_20_count}\")\n",
    "data"
   ]
  },
  {
   "cell_type": "code",
   "execution_count": null,
   "id": "5459a287-9e1a-4ede-bc60-bf97d15d93da",
   "metadata": {},
   "outputs": [],
   "source": [
    "students_with_20 = data[(data == 20).any(axis=1)]\n",
    "print(students_with_20)"
   ]
  },
  {
   "cell_type": "code",
   "execution_count": null,
   "id": "7b056d6e-d403-4b70-920f-975b1aac8e04",
   "metadata": {},
   "outputs": [],
   "source": [
    "\n",
    "max_scores = {}\n",
    "\n",
    "for subject in subject_columns:\n",
    "    if pd.api.types.is_numeric_dtype(data[subject]):\n",
    "        max_score = data[subject].max()\n",
    "        count = (data[subject] == max_score).sum()\n",
    "        max_scores[subject] = {'Max Score': max_score, 'Count': count}\n",
    "\n",
    "print(max_scores)\n",
    "data"
   ]
  },
  {
   "cell_type": "code",
   "execution_count": null,
   "id": "8500c976-c47c-40fa-a139-5b13b4ea9f12",
   "metadata": {},
   "outputs": [],
   "source": [
    "# Filter students who scored 20 in at least one subject\n",
    "students_with_20 = data[(data == 20).any(axis=1)]\n",
    "\n",
    "# Further filter for students with at least one backlog (score of 0)\n",
    "students_with_20_and_backlogs = students_with_20[(students_with_20 == 0).any(axis=1)]\n",
    "\n",
    "# Display the results\n",
    "print(students_with_20_and_backlogs)\n"
   ]
  },
  {
   "cell_type": "code",
   "execution_count": null,
   "id": "47ae2f50-4edc-4331-9467-f979a44c9d82",
   "metadata": {},
   "outputs": [],
   "source": [
    "subject_columns = data.columns[2:] \n",
    "data[subject_columns] = data[subject_columns].apply(pd.to_numeric, errors='coerce')\n",
    "students_with_20 = data[(data[subject_columns] == 20).any(axis=1)]\n",
    "students_with_20_and_backlogs = students_with_20[(students_with_20[subject_columns] < 10).any(axis=1)]\n",
    "print(students_with_20_and_backlogs)\n"
   ]
  },
  {
   "cell_type": "code",
   "execution_count": null,
   "id": "4240cdbd-3546-4b10-9a70-8503ca2684f3",
   "metadata": {},
   "outputs": [],
   "source": [
    "data.describe()"
   ]
  },
  {
   "cell_type": "code",
   "execution_count": null,
   "id": "b4ac21ed-aad7-41bb-ba00-7aaf7c764eb9",
   "metadata": {},
   "outputs": [],
   "source": [
    "p = pd.read_excel(\"MIDMARKS.xlsx\")\n",
    "p"
   ]
  },
  {
   "cell_type": "code",
   "execution_count": null,
   "id": "be31b2e4-35ce-4b67-a1d9-dcd38dd0059d",
   "metadata": {},
   "outputs": [],
   "source": [
    "p['DV'] = pd.to_numeric(p['DV'], errors='coerce')\n"
   ]
  },
  {
   "cell_type": "code",
   "execution_count": null,
   "id": "b43216d2-0a4d-46c3-81db-77e5a6d3c8a2",
   "metadata": {},
   "outputs": [],
   "source": [
    "D = (p['DV'] < 10) & (p['SECTION'] == 'DELTA')\n",
    "D.value_counts()"
   ]
  },
  {
   "cell_type": "code",
   "execution_count": null,
   "id": "d11bd888-a749-407e-b870-9d93e21bc19f",
   "metadata": {},
   "outputs": [],
   "source": [
    "D = (p['DV'] < 10) & (p['SECTION'] == 'ALPHA')\n",
    "D.value_counts()"
   ]
  },
  {
   "cell_type": "code",
   "execution_count": null,
   "id": "3fd13409-6c46-4321-b6ad-60b887a801b0",
   "metadata": {},
   "outputs": [],
   "source": [
    "D = (p['DV'] < 10) & (p['SECTION'] == 'BETA')\n",
    "D.value_counts()"
   ]
  },
  {
   "cell_type": "code",
   "execution_count": null,
   "id": "025f3bae-a37c-468e-b690-b357bb1e0533",
   "metadata": {},
   "outputs": [],
   "source": [
    "D = (p['DV'] < 10) & (p['SECTION'] == 'GAMA')\n",
    "D.value_counts()"
   ]
  },
  {
   "cell_type": "code",
   "execution_count": null,
   "id": "db505a72-5b03-4a28-a6e8-5b246bd66339",
   "metadata": {},
   "outputs": [],
   "source": [
    "D = (p['DV'] < 10) & (p['SECTION'] == 'SIGMA')\n",
    "D.value_counts()"
   ]
  },
  {
   "cell_type": "code",
   "execution_count": null,
   "id": "c184f21a-ce58-4729-bde0-1fca49a9536c",
   "metadata": {},
   "outputs": [],
   "source": [
    "D = (p['DV'] < 10) & (p['SECTION'] == 'ZETA')\n",
    "D.value_counts()"
   ]
  },
  {
   "cell_type": "code",
   "execution_count": null,
   "id": "d66cea37-03a0-4fcd-b230-038181538757",
   "metadata": {},
   "outputs": [],
   "source": [
    "D = (p['DV'] < 10) & (p['SECTION'] == 'ZETA')\n",
    "D.value_counts()"
   ]
  },
  {
   "cell_type": "code",
   "execution_count": null,
   "id": "eb408811-dc50-4ab8-8850-eb28ba18b8ac",
   "metadata": {},
   "outputs": [],
   "source": [
    "p['PP'] = pd.to_numeric(p['PP'], errors='coerce')"
   ]
  },
  {
   "cell_type": "code",
   "execution_count": null,
   "id": "460db848-2c40-484f-9a52-9f02711884a5",
   "metadata": {},
   "outputs": [],
   "source": [
    "D = (p['PP'] < 10) & (p['SECTION'] == 'ALPHA')\n",
    "D.value_counts()"
   ]
  },
  {
   "cell_type": "code",
   "execution_count": null,
   "id": "e0e1fbff-532a-468a-8e6f-cc6e8a129380",
   "metadata": {},
   "outputs": [],
   "source": [
    "D = (p['PP'] < 10) & (p['SECTION'] == 'BETA')\n",
    "D.value_counts()"
   ]
  },
  {
   "cell_type": "code",
   "execution_count": null,
   "id": "22e62ebc-fbfe-4d82-a5fd-04104dd7c77a",
   "metadata": {},
   "outputs": [],
   "source": [
    "D = (p['PP'] < 10) & (p['SECTION'] == 'GAMA')\n",
    "D.value_counts()"
   ]
  },
  {
   "cell_type": "code",
   "execution_count": null,
   "id": "43b0574d-d6ac-4e93-8773-19df075ac030",
   "metadata": {},
   "outputs": [],
   "source": [
    "D = (p['PP'] < 10) & (p['SECTION'] == 'DELTA')\n",
    "D.value_counts()"
   ]
  },
  {
   "cell_type": "code",
   "execution_count": null,
   "id": "fac53cbe-e954-46ed-b3fe-e7b819c28778",
   "metadata": {},
   "outputs": [],
   "source": [
    "D = (p['PP'] < 10) & (p['SECTION'] == 'SIGMA')\n",
    "D.value_counts()"
   ]
  },
  {
   "cell_type": "code",
   "execution_count": null,
   "id": "f00e9584-a43a-4de7-9a4e-89b98d086308",
   "metadata": {},
   "outputs": [],
   "source": [
    "D = (p['PP'] < 10) & (p['SECTION'] == 'ZETA')\n",
    "D.value_counts()"
   ]
  },
  {
   "cell_type": "code",
   "execution_count": null,
   "id": "975a1726-2a1a-4870-ab34-85eb46ef1301",
   "metadata": {},
   "outputs": [],
   "source": [
    "D = (p['PP'] < 10) & (p['SECTION'] == 'EPSILON')\n",
    "D.value_counts()"
   ]
  },
  {
   "cell_type": "code",
   "execution_count": null,
   "id": "83bdb2d6-ad11-4f41-bd4e-69ce932d593e",
   "metadata": {},
   "outputs": [],
   "source": [
    "data"
   ]
  },
  {
   "cell_type": "code",
   "execution_count": null,
   "id": "e85290b4-fb96-40cd-ab0f-2dcec78af709",
   "metadata": {},
   "outputs": [],
   "source": [
    "data[data[\"SECTION\"] == \"ALPHA\"].mean(numeric_only=True)"
   ]
  },
  {
   "cell_type": "code",
   "execution_count": null,
   "id": "188cbe0c-c3a9-4a6c-a0ee-1f9763e90eb0",
   "metadata": {},
   "outputs": [],
   "source": [
    "data[data[\"SECTION\"] == \"ALPHA\"].std(numeric_only=True)\n"
   ]
  },
  {
   "cell_type": "code",
   "execution_count": null,
   "id": "c1b7b227-48eb-4268-bd13-9434280df18f",
   "metadata": {},
   "outputs": [],
   "source": [
    "data.mean(numeric_only=True)\n"
   ]
  },
  {
   "cell_type": "code",
   "execution_count": null,
   "id": "008e1083-55c2-41bd-9fe6-e2d26959dbcd",
   "metadata": {},
   "outputs": [],
   "source": [
    "data.dropna().mean(numeric_only=True)\n"
   ]
  },
  {
   "cell_type": "code",
   "execution_count": null,
   "id": "a28ca434-f6db-424a-87cb-0d44fb88d29b",
   "metadata": {},
   "outputs": [],
   "source": [
    "data.dropna().std(numeric_only=True)\n"
   ]
  },
  {
   "cell_type": "code",
   "execution_count": null,
   "id": "994a30eb-ad0d-4524-aa0b-66403b0ed132",
   "metadata": {},
   "outputs": [],
   "source": [
    "data[data[\"SECTION\"] == \"ALPHA\"].dropna().mean(numeric_only=True)\n"
   ]
  },
  {
   "cell_type": "code",
   "execution_count": null,
   "id": "3f82bd81-9194-4f20-b92b-70345534a235",
   "metadata": {},
   "outputs": [],
   "source": [
    "data_cleaned = data.dropna()"
   ]
  },
  {
   "cell_type": "code",
   "execution_count": null,
   "id": "41783789-d8df-44dd-99da-d4f7ea7ceade",
   "metadata": {},
   "outputs": [],
   "source": [
    "data.shape"
   ]
  },
  {
   "cell_type": "code",
   "execution_count": null,
   "id": "79f1f8cf-16c7-434b-94ca-12da6b7d6d97",
   "metadata": {},
   "outputs": [],
   "source": [
    "data.info"
   ]
  },
  {
   "cell_type": "code",
   "execution_count": null,
   "id": "4f13f40b-be8d-48ae-988e-28406927fe9c",
   "metadata": {},
   "outputs": [],
   "source": [
    "from scipy.stats import ttest_ind"
   ]
  },
  {
   "cell_type": "code",
   "execution_count": null,
   "id": "98504ee8-8dbe-4654-9506-223796cd42fe",
   "metadata": {},
   "outputs": [],
   "source": [
    "group1 = data[data['SECTION']=='ALPHA']\n",
    "group2 = data[data['SECTION']=='BETA']\n",
    "ttest_ind(group1['DV'],group2['DV'])"
   ]
  },
  {
   "cell_type": "code",
   "execution_count": null,
   "id": "6b198057-0e17-4a78-8ef4-2c47ff590443",
   "metadata": {},
   "outputs": [],
   "source": [
    "data.describe()"
   ]
  },
  {
   "cell_type": "code",
   "execution_count": null,
   "id": "5e0588a4-7d04-4523-afb2-8b0ba2065e53",
   "metadata": {},
   "outputs": [],
   "source": []
  },
  {
   "cell_type": "code",
   "execution_count": null,
   "id": "f9b75049-b3a6-4dad-94c7-d373a17348ae",
   "metadata": {},
   "outputs": [],
   "source": [
    "sns.set_style(\"whitegrid\")\n",
    "def plot_histograms_boxplots(data, columns, dataset_name):\n",
    "    fig, axes = plt.subplots(len(columns), 2, figsize=(12, 4 * len(columns)))\n",
    "    for i, col in enumerate(columns):\n",
    "        sns.histplot(data[col], kde=True, ax=axes[i, 0])\n",
    "        axes[i, 0].set_title(f'Histogram of {col} in {MIDMARKS}')\n",
    "        sns.boxplot(x=data[col], ax=axes[i, 1])\n",
    "        axes[i, 1].set_title(f'Boxplot of {col} in {MIDMARKS}')\n",
    "    plt.tight_layout()\n",
    "columns_of_interest = ['DV', 'PP', 'BEEE', 'FL',]\n",
    "\n",
    "\n",
    "# Plotting for Mathematics dataset\n",
    "plot_histograms_boxplots(mat_data, columns_of_interest, 'Mathematics')"
   ]
  },
  {
   "cell_type": "code",
   "execution_count": null,
   "id": "9ab7b8dc-73dd-4afd-9b72-9052dc197e4b",
   "metadata": {},
   "outputs": [],
   "source": []
  }
 ],
 "metadata": {
  "kernelspec": {
   "display_name": "Python 3 (ipykernel)",
   "language": "python",
   "name": "python3"
  },
  "language_info": {
   "codemirror_mode": {
    "name": "ipython",
    "version": 3
   },
   "file_extension": ".py",
   "mimetype": "text/x-python",
   "name": "python",
   "nbconvert_exporter": "python",
   "pygments_lexer": "ipython3",
   "version": "3.12.7"
  }
 },
 "nbformat": 4,
 "nbformat_minor": 5
}
